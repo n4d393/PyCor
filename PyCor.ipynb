{
 "cells": [
  {
   "cell_type": "code",
   "execution_count": 1,
   "id": "2ec996a7",
   "metadata": {},
   "outputs": [],
   "source": [
    "# Imports\n",
    "import pandas as pd\n",
    "import numpy as np\n",
    "import seaborn as sns\n",
    "import matplotlib.pyplot as plt\n",
    "%matplotlib inline"
   ]
  },
  {
   "cell_type": "code",
   "execution_count": 2,
   "id": "da859377",
   "metadata": {},
   "outputs": [],
   "source": [
    "from sklearn.model_selection import GridSearchCV, train_test_split, StratifiedKFold, cross_val_score\n",
    "from sklearn.preprocessing import MinMaxScaler\n",
    "from sklearn.linear_model import LogisticRegression\n",
    "from sklearn.ensemble import RandomForestClassifier\n",
    "from sklearn.svm import SVC\n",
    "from sklearn.metrics import classification_report\n",
    "from sklearn.preprocessing import StandardScaler\n",
    "from sklearn.model_selection import train_test_split\n",
    "from sklearn.base import BaseEstimator, TransformerMixin\n",
    "from sklearn.pipeline import Pipeline"
   ]
  },
  {
   "cell_type": "code",
   "execution_count": 3,
   "id": "11010ea3",
   "metadata": {},
   "outputs": [],
   "source": [
    "# Data recovery\n",
    "data=pd.read_csv(\"Fichier_Projet_DS_new.csv\", sep= ';')"
   ]
  },
  {
   "cell_type": "code",
   "execution_count": 4,
   "id": "aafac884",
   "metadata": {},
   "outputs": [
    {
     "data": {
      "text/html": [
       "<div>\n",
       "<style scoped>\n",
       "    .dataframe tbody tr th:only-of-type {\n",
       "        vertical-align: middle;\n",
       "    }\n",
       "\n",
       "    .dataframe tbody tr th {\n",
       "        vertical-align: top;\n",
       "    }\n",
       "\n",
       "    .dataframe thead th {\n",
       "        text-align: right;\n",
       "    }\n",
       "</style>\n",
       "<table border=\"1\" class=\"dataframe\">\n",
       "  <thead>\n",
       "    <tr style=\"text-align: right;\">\n",
       "      <th></th>\n",
       "      <th>pmid</th>\n",
       "      <th>lead_time</th>\n",
       "      <th>initialmaincro</th>\n",
       "      <th>initialsubcro</th>\n",
       "      <th>finalmaincro</th>\n",
       "      <th>final_subcro</th>\n",
       "      <th>is_web_direct</th>\n",
       "      <th>flag_is_ota</th>\n",
       "      <th>booking_date</th>\n",
       "      <th>checkin_date</th>\n",
       "      <th>...</th>\n",
       "      <th>hotel_euro_market</th>\n",
       "      <th>environment_type</th>\n",
       "      <th>declared_stay_type</th>\n",
       "      <th>calculated_stay_type</th>\n",
       "      <th>is_all_member</th>\n",
       "      <th>type_member</th>\n",
       "      <th>is_member_ibis_business</th>\n",
       "      <th>is_member_business_plus</th>\n",
       "      <th>is_member_accor_plus</th>\n",
       "      <th>is_meeting_planner</th>\n",
       "    </tr>\n",
       "  </thead>\n",
       "  <tbody>\n",
       "    <tr>\n",
       "      <th>0</th>\n",
       "      <td>1</td>\n",
       "      <td>6.0</td>\n",
       "      <td>INT</td>\n",
       "      <td>INT</td>\n",
       "      <td>NaN</td>\n",
       "      <td>INT</td>\n",
       "      <td>True</td>\n",
       "      <td>NaN</td>\n",
       "      <td>07/04/2021 07:30</td>\n",
       "      <td>13/04/2021 00:00</td>\n",
       "      <td>...</td>\n",
       "      <td>PACIFIC</td>\n",
       "      <td>None</td>\n",
       "      <td>business</td>\n",
       "      <td>business</td>\n",
       "      <td>1</td>\n",
       "      <td>ALL Gold</td>\n",
       "      <td>0</td>\n",
       "      <td>0</td>\n",
       "      <td>0</td>\n",
       "      <td>0</td>\n",
       "    </tr>\n",
       "    <tr>\n",
       "      <th>1</th>\n",
       "      <td>1</td>\n",
       "      <td>NaN</td>\n",
       "      <td>NaN</td>\n",
       "      <td>NaN</td>\n",
       "      <td>NaN</td>\n",
       "      <td>NaN</td>\n",
       "      <td>False</td>\n",
       "      <td>NaN</td>\n",
       "      <td>NaN</td>\n",
       "      <td>10/11/2021 00:00</td>\n",
       "      <td>...</td>\n",
       "      <td>PACIFIC</td>\n",
       "      <td>None</td>\n",
       "      <td>NaN</td>\n",
       "      <td>business</td>\n",
       "      <td>1</td>\n",
       "      <td>ALL Gold</td>\n",
       "      <td>0</td>\n",
       "      <td>0</td>\n",
       "      <td>0</td>\n",
       "      <td>0</td>\n",
       "    </tr>\n",
       "    <tr>\n",
       "      <th>2</th>\n",
       "      <td>1</td>\n",
       "      <td>NaN</td>\n",
       "      <td>NaN</td>\n",
       "      <td>NaN</td>\n",
       "      <td>NaN</td>\n",
       "      <td>NaN</td>\n",
       "      <td>False</td>\n",
       "      <td>NaN</td>\n",
       "      <td>NaN</td>\n",
       "      <td>23/03/2022 00:00</td>\n",
       "      <td>...</td>\n",
       "      <td>PACIFIC</td>\n",
       "      <td>None</td>\n",
       "      <td>NaN</td>\n",
       "      <td>business</td>\n",
       "      <td>1</td>\n",
       "      <td>ALL Gold</td>\n",
       "      <td>0</td>\n",
       "      <td>0</td>\n",
       "      <td>0</td>\n",
       "      <td>0</td>\n",
       "    </tr>\n",
       "    <tr>\n",
       "      <th>3</th>\n",
       "      <td>1</td>\n",
       "      <td>12.0</td>\n",
       "      <td>INT</td>\n",
       "      <td>INT</td>\n",
       "      <td>NaN</td>\n",
       "      <td>INT</td>\n",
       "      <td>True</td>\n",
       "      <td>NaN</td>\n",
       "      <td>25/02/2021 02:51</td>\n",
       "      <td>09/03/2021 00:00</td>\n",
       "      <td>...</td>\n",
       "      <td>PACIFIC</td>\n",
       "      <td>None</td>\n",
       "      <td>leisure</td>\n",
       "      <td>leisure</td>\n",
       "      <td>1</td>\n",
       "      <td>ALL Gold</td>\n",
       "      <td>0</td>\n",
       "      <td>0</td>\n",
       "      <td>0</td>\n",
       "      <td>0</td>\n",
       "    </tr>\n",
       "    <tr>\n",
       "      <th>4</th>\n",
       "      <td>1</td>\n",
       "      <td>24.0</td>\n",
       "      <td>INT</td>\n",
       "      <td>AFT</td>\n",
       "      <td>NaN</td>\n",
       "      <td>AFT</td>\n",
       "      <td>True</td>\n",
       "      <td>NaN</td>\n",
       "      <td>07/06/2022 01:48</td>\n",
       "      <td>01/07/2022 00:00</td>\n",
       "      <td>...</td>\n",
       "      <td>PACIFIC</td>\n",
       "      <td>None</td>\n",
       "      <td>leisure</td>\n",
       "      <td>leisure</td>\n",
       "      <td>1</td>\n",
       "      <td>ALL Gold</td>\n",
       "      <td>0</td>\n",
       "      <td>0</td>\n",
       "      <td>0</td>\n",
       "      <td>0</td>\n",
       "    </tr>\n",
       "  </tbody>\n",
       "</table>\n",
       "<p>5 rows × 66 columns</p>\n",
       "</div>"
      ],
      "text/plain": [
       "   pmid  lead_time initialmaincro initialsubcro finalmaincro final_subcro  \\\n",
       "0     1        6.0            INT           INT          NaN          INT   \n",
       "1     1        NaN            NaN           NaN          NaN          NaN   \n",
       "2     1        NaN            NaN           NaN          NaN          NaN   \n",
       "3     1       12.0            INT           INT          NaN          INT   \n",
       "4     1       24.0            INT           AFT          NaN          AFT   \n",
       "\n",
       "   is_web_direct  flag_is_ota      booking_date      checkin_date  ...  \\\n",
       "0           True          NaN  07/04/2021 07:30  13/04/2021 00:00  ...   \n",
       "1          False          NaN               NaN  10/11/2021 00:00  ...   \n",
       "2          False          NaN               NaN  23/03/2022 00:00  ...   \n",
       "3           True          NaN  25/02/2021 02:51  09/03/2021 00:00  ...   \n",
       "4           True          NaN  07/06/2022 01:48  01/07/2022 00:00  ...   \n",
       "\n",
       "   hotel_euro_market environment_type  declared_stay_type  \\\n",
       "0            PACIFIC             None            business   \n",
       "1            PACIFIC             None                 NaN   \n",
       "2            PACIFIC             None                 NaN   \n",
       "3            PACIFIC             None             leisure   \n",
       "4            PACIFIC             None             leisure   \n",
       "\n",
       "   calculated_stay_type is_all_member  type_member  is_member_ibis_business  \\\n",
       "0              business             1     ALL Gold                        0   \n",
       "1              business             1     ALL Gold                        0   \n",
       "2              business             1     ALL Gold                        0   \n",
       "3               leisure             1     ALL Gold                        0   \n",
       "4               leisure             1     ALL Gold                        0   \n",
       "\n",
       "   is_member_business_plus  is_member_accor_plus  is_meeting_planner  \n",
       "0                        0                     0                   0  \n",
       "1                        0                     0                   0  \n",
       "2                        0                     0                   0  \n",
       "3                        0                     0                   0  \n",
       "4                        0                     0                   0  \n",
       "\n",
       "[5 rows x 66 columns]"
      ]
     },
     "execution_count": 4,
     "metadata": {},
     "output_type": "execute_result"
    }
   ],
   "source": [
    "data.head()"
   ]
  },
  {
   "cell_type": "code",
   "execution_count": 5,
   "id": "9552cf35",
   "metadata": {},
   "outputs": [
    {
     "name": "stdout",
     "output_type": "stream",
     "text": [
      "<class 'pandas.core.frame.DataFrame'>\n",
      "RangeIndex: 500000 entries, 0 to 499999\n",
      "Data columns (total 66 columns):\n",
      " #   Column                    Non-Null Count   Dtype  \n",
      "---  ------                    --------------   -----  \n",
      " 0   pmid                      500000 non-null  int64  \n",
      " 1   lead_time                 422480 non-null  float64\n",
      " 2   initialmaincro            422480 non-null  object \n",
      " 3   initialsubcro             422480 non-null  object \n",
      " 4   finalmaincro              383560 non-null  object \n",
      " 5   final_subcro              439606 non-null  object \n",
      " 6   is_web_direct             500000 non-null  bool   \n",
      " 7   flag_is_ota               176 non-null     float64\n",
      " 8   booking_date              422480 non-null  object \n",
      " 9   checkin_date              500000 non-null  object \n",
      " 10  checkin_date_index        500000 non-null  int64  \n",
      " 11  checkout_date             500000 non-null  object \n",
      " 12  checkout_date_index       500000 non-null  int64  \n",
      " 13  stay_length               500000 non-null  int64  \n",
      " 14  booking_status            422480 non-null  object \n",
      " 15  nb_adults                 422480 non-null  float64\n",
      " 16  child_presence            500000 non-null  bool   \n",
      " 17  nb_child                  422480 non-null  float64\n",
      " 18  bkg_nbnights              422480 non-null  float64\n",
      " 19  stay_nbnights             472765 non-null  float64\n",
      " 20  sb_nbnights               500000 non-null  int64  \n",
      " 21  tr_nbnights               500000 non-null  int64  \n",
      " 22  bad_tr_ nb_nights         176 non-null     float64\n",
      " 23  bkg_nbroomnights          422480 non-null  float64\n",
      " 24  stay_nbroomnights         472765 non-null  float64\n",
      " 25  sb_nbroomnights           500000 non-null  int64  \n",
      " 26  tr_nbroomnights           500000 non-null  int64  \n",
      " 27  bad_tr_nbroomnights       0 non-null       float64\n",
      " 28  eligible_to_earn_points   500000 non-null  bool   \n",
      " 29  points                    500000 non-null  int64  \n",
      " 30  bkg_catotal_eur           422480 non-null  float64\n",
      " 31  stay_catotal_eur          468236 non-null  float64\n",
      " 32  sb_catotal_eur            500000 non-null  float64\n",
      " 33  stay_cor_catotal_eur      472765 non-null  float64\n",
      " 34  tr_turn_over_eur          500000 non-null  float64\n",
      " 35  bad_tr_ turn_over_eur     176 non-null     float64\n",
      " 36  flag_aberrante_value      42008 non-null   object \n",
      " 37  bkg_caroom_eur            422480 non-null  float64\n",
      " 38  stay_caroom_eur           440622 non-null  float64\n",
      " 39  stay_cor_caroom_eur       444914 non-null  float64\n",
      " 40  sb_caroom_eur             482331 non-null  float64\n",
      " 41  hotelcode                 500000 non-null  object \n",
      " 42  hotel_name                500000 non-null  object \n",
      " 43  rcu_codemarque            478648 non-null  object \n",
      " 44  hotel_brand_code          500000 non-null  object \n",
      " 45  hotel_brand               500000 non-null  object \n",
      " 46  hotel_brand_positionning  500000 non-null  object \n",
      " 47  hotel_rooms               500000 non-null  int64  \n",
      " 48  hotel_zip_code            499948 non-null  object \n",
      " 49  hotel_city                500000 non-null  object \n",
      " 50  hotel_country_code        500000 non-null  object \n",
      " 51  hotel_country             500000 non-null  object \n",
      " 52  hotel_sales_organisation  500000 non-null  object \n",
      " 53  hotel_class               500000 non-null  object \n",
      " 54  hotel_location_type       500000 non-null  object \n",
      " 55  hotel_continent           500000 non-null  object \n",
      " 56  hotel_euro_market         500000 non-null  object \n",
      " 57  environment_type          500000 non-null  object \n",
      " 58  declared_stay_type        422480 non-null  object \n",
      " 59  calculated_stay_type      500000 non-null  object \n",
      " 60  is_all_member             500000 non-null  int64  \n",
      " 61  type_member               495988 non-null  object \n",
      " 62  is_member_ibis_business   500000 non-null  int64  \n",
      " 63  is_member_business_plus   500000 non-null  int64  \n",
      " 64  is_member_accor_plus      500000 non-null  int64  \n",
      " 65  is_meeting_planner        500000 non-null  int64  \n",
      "dtypes: bool(3), float64(20), int64(15), object(28)\n",
      "memory usage: 241.8+ MB\n"
     ]
    }
   ],
   "source": [
    "data.info()"
   ]
  },
  {
   "cell_type": "code",
   "execution_count": 6,
   "id": "9d6defd9",
   "metadata": {},
   "outputs": [
    {
     "data": {
      "text/plain": [
       "0"
      ]
     },
     "execution_count": 6,
     "metadata": {},
     "output_type": "execute_result"
    }
   ],
   "source": [
    "# Calcul des doublons\n",
    "data.duplicated().sum()"
   ]
  },
  {
   "cell_type": "code",
   "execution_count": 7,
   "id": "49bf2176",
   "metadata": {},
   "outputs": [],
   "source": [
    "drop_columns = [ # Drop the too specific values not interesting for us\n",
    "    'initialmaincro', 'initialsubcro', 'finalmaincro', 'final_subcro', 'bad_tr_ nb_nights', \n",
    "    'bad_tr_ turn_over_eur', 'hotelcode', 'hotel_name', 'rcu_codemarque', 'hotel_brand_code', \n",
    "    'hotel_zip_code', 'hotel_country', 'flag_is_ota', 'bad_tr_nbroomnights', 'flag_aberrante_value',\n",
    "    'hotel_city', 'hotel_country_code',  # We keep only one payment data 'stay_catotal_eur'\n",
    "    'bkg_catotal_eur','sb_catotal_eur','stay_cor_catotal_eur','tr_turn_over_eur','bad_tr_ turn_over_eur',\n",
    "    'flag_aberrante_value','bkg_caroom_eur','stay_caroom_eur','stay_cor_caroom_eur','sb_caroom_eur',\n",
    "    'checkout_date_index',   # the 'lead_time' and transformed dates by fonction 'organize_dates' are enough\n",
    "    'nb_child', # The boolean 'child_presence' is enough    \n",
    "    'bkg_nbnights','stay_nbnights','sb_nbnights','tr_nbnights', # Dropped after creation 'gap_bkg_stay_nights' value\n",
    "    'bkg_nbroomnights','stay_nbroomnights','sb_nbroomnights','tr_nbroomnights' \n",
    "    # Dropped with no creation of a 'gap_bkg_stay_roomnights' value beacause we have 'gap_bkg_stay_nights'\n",
    "]\n",
    "\n",
    "dates_cols = ['booking_date', 'checkin_date', 'checkout_date']\n",
    "\n",
    "boolean_cols = ['is_web_direct', 'child_presence', 'eligible_to_earn_points']\n",
    "\n",
    "\n",
    "def organize_dates(data, dates_columns):  # To transform date and know if it's a day of the week or not\n",
    "    for col in dates_columns:\n",
    "        data[col] = pd.to_datetime(data[col])\n",
    "        data[f'{col}_year']  = data[col].dt.year\n",
    "        data[f'{col}_month'] = data[col].dt.month\n",
    "        data[f'{col}_day_name'] = data[col].dt.day_name()\n",
    "        data[f'{col}_is_weekend'] = np.where(data[f'{col}_day_name'].isin(['Saturday', 'Sunday']), 1, 0)\n",
    "    return data.drop(dates_columns, axis=1)\n",
    "\n",
    "def initial_preprocess_data(data, boolean_cols): \n",
    "# To transform true/false in 1/0\n",
    "    for col in boolean_cols:\n",
    "        data[col] = np.where(data[col]==True, 1, 0)\n",
    "    return data\n",
    "\n",
    "def initial_preprocessing_pipeline(data, dates_columns, boolean_cols, drop_columns):\n",
    "    data = organize_dates(data, dates_columns)\n",
    "    data = initial_preprocess_data(data, boolean_cols)\n",
    "    return data.drop(drop_columns, axis=1)"
   ]
  },
  {
   "cell_type": "code",
   "execution_count": 12,
   "id": "708eb68b",
   "metadata": {},
   "outputs": [],
   "source": [
    "# To know the potential difference of the number of nights between the reservation and the real stay (positiv or negativ or 0)\n",
    "data['gap_bkg_stay_nights'] = data['bkg_nbroomnights'] - data['stay_nbroomnights']"
   ]
  },
  {
   "cell_type": "code",
   "execution_count": 8,
   "id": "093378d1",
   "metadata": {},
   "outputs": [],
   "source": [
    "data['hotel_brand_positionning'] = np.where(data['hotel_brand_positionning'] == 'Unknown Positioning', data['hotel_brand_code'], data['hotel_brand_positionning'])"
   ]
  },
  {
   "cell_type": "code",
   "execution_count": 9,
   "id": "d8779a1e",
   "metadata": {},
   "outputs": [],
   "source": [
    "# Organization of the Dates of the Dataset (format, day name, week-end)\n",
    "# Boolean to number 0/1\n",
    "# Drop unsused coloumns\n",
    "data_explore = initial_preprocessing_pipeline(data=data, dates_columns=dates_cols, boolean_cols=boolean_cols, drop_columns=drop_columns)"
   ]
  },
  {
   "cell_type": "code",
   "execution_count": 15,
   "id": "576330be",
   "metadata": {},
   "outputs": [
    {
     "data": {
      "text/html": [
       "<div>\n",
       "<style scoped>\n",
       "    .dataframe tbody tr th:only-of-type {\n",
       "        vertical-align: middle;\n",
       "    }\n",
       "\n",
       "    .dataframe tbody tr th {\n",
       "        vertical-align: top;\n",
       "    }\n",
       "\n",
       "    .dataframe thead th {\n",
       "        text-align: right;\n",
       "    }\n",
       "</style>\n",
       "<table border=\"1\" class=\"dataframe\">\n",
       "  <thead>\n",
       "    <tr style=\"text-align: right;\">\n",
       "      <th></th>\n",
       "      <th>pmid</th>\n",
       "      <th>lead_time</th>\n",
       "      <th>is_web_direct</th>\n",
       "      <th>checkin_date_index</th>\n",
       "      <th>stay_length</th>\n",
       "      <th>booking_status</th>\n",
       "      <th>nb_adults</th>\n",
       "      <th>child_presence</th>\n",
       "      <th>eligible_to_earn_points</th>\n",
       "      <th>points</th>\n",
       "      <th>...</th>\n",
       "      <th>booking_date_day_name</th>\n",
       "      <th>booking_date_is_weekend</th>\n",
       "      <th>checkin_date_year</th>\n",
       "      <th>checkin_date_month</th>\n",
       "      <th>checkin_date_day_name</th>\n",
       "      <th>checkin_date_is_weekend</th>\n",
       "      <th>checkout_date_year</th>\n",
       "      <th>checkout_date_month</th>\n",
       "      <th>checkout_date_day_name</th>\n",
       "      <th>checkout_date_is_weekend</th>\n",
       "    </tr>\n",
       "  </thead>\n",
       "  <tbody>\n",
       "    <tr>\n",
       "      <th>0</th>\n",
       "      <td>1</td>\n",
       "      <td>6.0</td>\n",
       "      <td>1</td>\n",
       "      <td>2</td>\n",
       "      <td>2</td>\n",
       "      <td>A</td>\n",
       "      <td>1.0</td>\n",
       "      <td>0</td>\n",
       "      <td>1</td>\n",
       "      <td>226</td>\n",
       "      <td>...</td>\n",
       "      <td>Sunday</td>\n",
       "      <td>1</td>\n",
       "      <td>2021</td>\n",
       "      <td>4</td>\n",
       "      <td>Tuesday</td>\n",
       "      <td>0</td>\n",
       "      <td>2021</td>\n",
       "      <td>4</td>\n",
       "      <td>Thursday</td>\n",
       "      <td>0</td>\n",
       "    </tr>\n",
       "    <tr>\n",
       "      <th>1</th>\n",
       "      <td>1</td>\n",
       "      <td>NaN</td>\n",
       "      <td>0</td>\n",
       "      <td>3</td>\n",
       "      <td>2</td>\n",
       "      <td>NaN</td>\n",
       "      <td>NaN</td>\n",
       "      <td>0</td>\n",
       "      <td>1</td>\n",
       "      <td>264</td>\n",
       "      <td>...</td>\n",
       "      <td>NaN</td>\n",
       "      <td>0</td>\n",
       "      <td>2021</td>\n",
       "      <td>10</td>\n",
       "      <td>Monday</td>\n",
       "      <td>0</td>\n",
       "      <td>2021</td>\n",
       "      <td>12</td>\n",
       "      <td>Saturday</td>\n",
       "      <td>1</td>\n",
       "    </tr>\n",
       "    <tr>\n",
       "      <th>2</th>\n",
       "      <td>1</td>\n",
       "      <td>NaN</td>\n",
       "      <td>0</td>\n",
       "      <td>3</td>\n",
       "      <td>1</td>\n",
       "      <td>NaN</td>\n",
       "      <td>NaN</td>\n",
       "      <td>0</td>\n",
       "      <td>1</td>\n",
       "      <td>119</td>\n",
       "      <td>...</td>\n",
       "      <td>NaN</td>\n",
       "      <td>0</td>\n",
       "      <td>2022</td>\n",
       "      <td>3</td>\n",
       "      <td>Wednesday</td>\n",
       "      <td>0</td>\n",
       "      <td>2022</td>\n",
       "      <td>3</td>\n",
       "      <td>Thursday</td>\n",
       "      <td>0</td>\n",
       "    </tr>\n",
       "    <tr>\n",
       "      <th>3</th>\n",
       "      <td>1</td>\n",
       "      <td>12.0</td>\n",
       "      <td>1</td>\n",
       "      <td>2</td>\n",
       "      <td>2</td>\n",
       "      <td>A</td>\n",
       "      <td>1.0</td>\n",
       "      <td>0</td>\n",
       "      <td>1</td>\n",
       "      <td>498</td>\n",
       "      <td>...</td>\n",
       "      <td>Thursday</td>\n",
       "      <td>0</td>\n",
       "      <td>2021</td>\n",
       "      <td>9</td>\n",
       "      <td>Friday</td>\n",
       "      <td>0</td>\n",
       "      <td>2021</td>\n",
       "      <td>11</td>\n",
       "      <td>Wednesday</td>\n",
       "      <td>0</td>\n",
       "    </tr>\n",
       "    <tr>\n",
       "      <th>4</th>\n",
       "      <td>1</td>\n",
       "      <td>24.0</td>\n",
       "      <td>1</td>\n",
       "      <td>5</td>\n",
       "      <td>1</td>\n",
       "      <td>A</td>\n",
       "      <td>1.0</td>\n",
       "      <td>0</td>\n",
       "      <td>1</td>\n",
       "      <td>142</td>\n",
       "      <td>...</td>\n",
       "      <td>Wednesday</td>\n",
       "      <td>0</td>\n",
       "      <td>2022</td>\n",
       "      <td>1</td>\n",
       "      <td>Friday</td>\n",
       "      <td>0</td>\n",
       "      <td>2022</td>\n",
       "      <td>2</td>\n",
       "      <td>Monday</td>\n",
       "      <td>0</td>\n",
       "    </tr>\n",
       "  </tbody>\n",
       "</table>\n",
       "<p>5 rows × 41 columns</p>\n",
       "</div>"
      ],
      "text/plain": [
       "   pmid  lead_time  is_web_direct  checkin_date_index  stay_length  \\\n",
       "0     1        6.0              1                   2            2   \n",
       "1     1        NaN              0                   3            2   \n",
       "2     1        NaN              0                   3            1   \n",
       "3     1       12.0              1                   2            2   \n",
       "4     1       24.0              1                   5            1   \n",
       "\n",
       "  booking_status  nb_adults  child_presence  eligible_to_earn_points  points  \\\n",
       "0              A        1.0               0                        1     226   \n",
       "1            NaN        NaN               0                        1     264   \n",
       "2            NaN        NaN               0                        1     119   \n",
       "3              A        1.0               0                        1     498   \n",
       "4              A        1.0               0                        1     142   \n",
       "\n",
       "   ...  booking_date_day_name booking_date_is_weekend checkin_date_year  \\\n",
       "0  ...                 Sunday                       1              2021   \n",
       "1  ...                    NaN                       0              2021   \n",
       "2  ...                    NaN                       0              2022   \n",
       "3  ...               Thursday                       0              2021   \n",
       "4  ...              Wednesday                       0              2022   \n",
       "\n",
       "   checkin_date_month checkin_date_day_name checkin_date_is_weekend  \\\n",
       "0                   4               Tuesday                       0   \n",
       "1                  10                Monday                       0   \n",
       "2                   3             Wednesday                       0   \n",
       "3                   9                Friday                       0   \n",
       "4                   1                Friday                       0   \n",
       "\n",
       "  checkout_date_year checkout_date_month checkout_date_day_name  \\\n",
       "0               2021                   4               Thursday   \n",
       "1               2021                  12               Saturday   \n",
       "2               2022                   3               Thursday   \n",
       "3               2021                  11              Wednesday   \n",
       "4               2022                   2                 Monday   \n",
       "\n",
       "  checkout_date_is_weekend  \n",
       "0                        0  \n",
       "1                        1  \n",
       "2                        0  \n",
       "3                        0  \n",
       "4                        0  \n",
       "\n",
       "[5 rows x 41 columns]"
      ]
     },
     "execution_count": 15,
     "metadata": {},
     "output_type": "execute_result"
    }
   ],
   "source": [
    "data_explore.head()"
   ]
  },
  {
   "cell_type": "code",
   "execution_count": 16,
   "id": "d2f98327",
   "metadata": {},
   "outputs": [
    {
     "name": "stdout",
     "output_type": "stream",
     "text": [
      "<class 'pandas.core.frame.DataFrame'>\n",
      "RangeIndex: 500000 entries, 0 to 499999\n",
      "Data columns (total 41 columns):\n",
      " #   Column                    Non-Null Count   Dtype  \n",
      "---  ------                    --------------   -----  \n",
      " 0   pmid                      500000 non-null  int64  \n",
      " 1   lead_time                 422480 non-null  float64\n",
      " 2   is_web_direct             500000 non-null  int32  \n",
      " 3   checkin_date_index        500000 non-null  int64  \n",
      " 4   stay_length               500000 non-null  int64  \n",
      " 5   booking_status            422480 non-null  object \n",
      " 6   nb_adults                 422480 non-null  float64\n",
      " 7   child_presence            500000 non-null  int32  \n",
      " 8   eligible_to_earn_points   500000 non-null  int32  \n",
      " 9   points                    500000 non-null  int64  \n",
      " 10  stay_catotal_eur          468236 non-null  float64\n",
      " 11  hotel_brand               500000 non-null  object \n",
      " 12  hotel_brand_positionning  500000 non-null  object \n",
      " 13  hotel_rooms               500000 non-null  int64  \n",
      " 14  hotel_sales_organisation  500000 non-null  object \n",
      " 15  hotel_class               500000 non-null  object \n",
      " 16  hotel_location_type       500000 non-null  object \n",
      " 17  hotel_continent           500000 non-null  object \n",
      " 18  hotel_euro_market         500000 non-null  object \n",
      " 19  environment_type          500000 non-null  object \n",
      " 20  declared_stay_type        422480 non-null  object \n",
      " 21  calculated_stay_type      500000 non-null  object \n",
      " 22  is_all_member             500000 non-null  int64  \n",
      " 23  type_member               495988 non-null  object \n",
      " 24  is_member_ibis_business   500000 non-null  int64  \n",
      " 25  is_member_business_plus   500000 non-null  int64  \n",
      " 26  is_member_accor_plus      500000 non-null  int64  \n",
      " 27  is_meeting_planner        500000 non-null  int64  \n",
      " 28  gap_bkg_stay_nights       395245 non-null  float64\n",
      " 29  booking_date_year         422480 non-null  float64\n",
      " 30  booking_date_month        422480 non-null  float64\n",
      " 31  booking_date_day_name     422480 non-null  object \n",
      " 32  booking_date_is_weekend   500000 non-null  int32  \n",
      " 33  checkin_date_year         500000 non-null  int64  \n",
      " 34  checkin_date_month        500000 non-null  int64  \n",
      " 35  checkin_date_day_name     500000 non-null  object \n",
      " 36  checkin_date_is_weekend   500000 non-null  int32  \n",
      " 37  checkout_date_year        500000 non-null  int64  \n",
      " 38  checkout_date_month       500000 non-null  int64  \n",
      " 39  checkout_date_day_name    500000 non-null  object \n",
      " 40  checkout_date_is_weekend  500000 non-null  int32  \n",
      "dtypes: float64(6), int32(6), int64(14), object(15)\n",
      "memory usage: 145.0+ MB\n"
     ]
    }
   ],
   "source": [
    "data_explore.info()"
   ]
  },
  {
   "cell_type": "code",
   "execution_count": 17,
   "id": "726f5a29",
   "metadata": {},
   "outputs": [
    {
     "name": "stdout",
     "output_type": "stream",
     "text": [
      "pmid                        130957\n",
      "lead_time                      506\n",
      "is_web_direct                    2\n",
      "checkin_date_index               7\n",
      "stay_length                    120\n",
      "booking_status                   3\n",
      "nb_adults                       28\n",
      "child_presence                   2\n",
      "eligible_to_earn_points          2\n",
      "points                        8887\n",
      "stay_catotal_eur             80809\n",
      "hotel_brand                     51\n",
      "hotel_brand_positionning        31\n",
      "hotel_rooms                    504\n",
      "hotel_sales_organisation         8\n",
      "hotel_class                     10\n",
      "hotel_location_type              4\n",
      "hotel_continent                  7\n",
      "hotel_euro_market               10\n",
      "environment_type                 5\n",
      "declared_stay_type               3\n",
      "calculated_stay_type             2\n",
      "is_all_member                    2\n",
      "type_member                     13\n",
      "is_member_ibis_business          2\n",
      "is_member_business_plus          2\n",
      "is_member_accor_plus             2\n",
      "is_meeting_planner               2\n",
      "gap_bkg_stay_nights            104\n",
      "booking_date_year                5\n",
      "booking_date_month              12\n",
      "booking_date_day_name            7\n",
      "booking_date_is_weekend          2\n",
      "checkin_date_year                2\n",
      "checkin_date_month              12\n",
      "checkin_date_day_name            7\n",
      "checkin_date_is_weekend          2\n",
      "checkout_date_year               2\n",
      "checkout_date_month             12\n",
      "checkout_date_day_name           7\n",
      "checkout_date_is_weekend         2\n",
      "dtype: int64\n"
     ]
    }
   ],
   "source": [
    "# On s'interesse aux modalités de chaque colonne\n",
    "uniqueValues = data_explore.nunique()\n",
    "print(uniqueValues)"
   ]
  },
  {
   "cell_type": "code",
   "execution_count": 18,
   "id": "c3b947f7",
   "metadata": {},
   "outputs": [
    {
     "data": {
      "text/html": [
       "<div>\n",
       "<style scoped>\n",
       "    .dataframe tbody tr th:only-of-type {\n",
       "        vertical-align: middle;\n",
       "    }\n",
       "\n",
       "    .dataframe tbody tr th {\n",
       "        vertical-align: top;\n",
       "    }\n",
       "\n",
       "    .dataframe thead th {\n",
       "        text-align: right;\n",
       "    }\n",
       "</style>\n",
       "<table border=\"1\" class=\"dataframe\">\n",
       "  <thead>\n",
       "    <tr style=\"text-align: right;\">\n",
       "      <th></th>\n",
       "      <th>pmid</th>\n",
       "      <th>lead_time</th>\n",
       "      <th>is_web_direct</th>\n",
       "      <th>checkin_date_index</th>\n",
       "      <th>stay_length</th>\n",
       "      <th>nb_adults</th>\n",
       "      <th>child_presence</th>\n",
       "      <th>eligible_to_earn_points</th>\n",
       "      <th>points</th>\n",
       "      <th>stay_catotal_eur</th>\n",
       "      <th>...</th>\n",
       "      <th>gap_bkg_stay_nights</th>\n",
       "      <th>booking_date_year</th>\n",
       "      <th>booking_date_month</th>\n",
       "      <th>booking_date_is_weekend</th>\n",
       "      <th>checkin_date_year</th>\n",
       "      <th>checkin_date_month</th>\n",
       "      <th>checkin_date_is_weekend</th>\n",
       "      <th>checkout_date_year</th>\n",
       "      <th>checkout_date_month</th>\n",
       "      <th>checkout_date_is_weekend</th>\n",
       "    </tr>\n",
       "  </thead>\n",
       "  <tbody>\n",
       "    <tr>\n",
       "      <th>count</th>\n",
       "      <td>500000.000000</td>\n",
       "      <td>422480.000000</td>\n",
       "      <td>500000.000000</td>\n",
       "      <td>500000.000000</td>\n",
       "      <td>500000.000000</td>\n",
       "      <td>422480.000000</td>\n",
       "      <td>500000.000000</td>\n",
       "      <td>500000.000000</td>\n",
       "      <td>500000.000000</td>\n",
       "      <td>468236.000000</td>\n",
       "      <td>...</td>\n",
       "      <td>395245.000000</td>\n",
       "      <td>422480.000000</td>\n",
       "      <td>422480.000000</td>\n",
       "      <td>500000.00000</td>\n",
       "      <td>500000.000000</td>\n",
       "      <td>500000.000000</td>\n",
       "      <td>500000.000000</td>\n",
       "      <td>500000.000000</td>\n",
       "      <td>500000.000000</td>\n",
       "      <td>500000.000000</td>\n",
       "    </tr>\n",
       "    <tr>\n",
       "      <th>mean</th>\n",
       "      <td>65085.346224</td>\n",
       "      <td>17.888234</td>\n",
       "      <td>0.613588</td>\n",
       "      <td>3.640690</td>\n",
       "      <td>1.876596</td>\n",
       "      <td>1.631183</td>\n",
       "      <td>0.068646</td>\n",
       "      <td>0.999648</td>\n",
       "      <td>591.218986</td>\n",
       "      <td>283.055802</td>\n",
       "      <td>...</td>\n",
       "      <td>-0.079338</td>\n",
       "      <td>2021.531585</td>\n",
       "      <td>6.368865</td>\n",
       "      <td>0.20008</td>\n",
       "      <td>2021.552322</td>\n",
       "      <td>6.559626</td>\n",
       "      <td>0.246212</td>\n",
       "      <td>2021.554632</td>\n",
       "      <td>6.573424</td>\n",
       "      <td>0.280268</td>\n",
       "    </tr>\n",
       "    <tr>\n",
       "      <th>std</th>\n",
       "      <td>37832.102477</td>\n",
       "      <td>35.082429</td>\n",
       "      <td>0.486927</td>\n",
       "      <td>1.957982</td>\n",
       "      <td>2.551059</td>\n",
       "      <td>0.893649</td>\n",
       "      <td>0.252851</td>\n",
       "      <td>0.018758</td>\n",
       "      <td>1394.415718</td>\n",
       "      <td>594.288224</td>\n",
       "      <td>...</td>\n",
       "      <td>1.679041</td>\n",
       "      <td>0.511242</td>\n",
       "      <td>3.233611</td>\n",
       "      <td>0.40006</td>\n",
       "      <td>0.497255</td>\n",
       "      <td>3.230314</td>\n",
       "      <td>0.430804</td>\n",
       "      <td>0.497007</td>\n",
       "      <td>3.238207</td>\n",
       "      <td>0.449131</td>\n",
       "    </tr>\n",
       "    <tr>\n",
       "      <th>min</th>\n",
       "      <td>1.000000</td>\n",
       "      <td>0.000000</td>\n",
       "      <td>0.000000</td>\n",
       "      <td>1.000000</td>\n",
       "      <td>0.000000</td>\n",
       "      <td>0.000000</td>\n",
       "      <td>0.000000</td>\n",
       "      <td>0.000000</td>\n",
       "      <td>1.000000</td>\n",
       "      <td>-2015.000000</td>\n",
       "      <td>...</td>\n",
       "      <td>-279.000000</td>\n",
       "      <td>2018.000000</td>\n",
       "      <td>1.000000</td>\n",
       "      <td>0.00000</td>\n",
       "      <td>2021.000000</td>\n",
       "      <td>1.000000</td>\n",
       "      <td>0.000000</td>\n",
       "      <td>2021.000000</td>\n",
       "      <td>1.000000</td>\n",
       "      <td>0.000000</td>\n",
       "    </tr>\n",
       "    <tr>\n",
       "      <th>25%</th>\n",
       "      <td>32328.000000</td>\n",
       "      <td>1.000000</td>\n",
       "      <td>0.000000</td>\n",
       "      <td>2.000000</td>\n",
       "      <td>1.000000</td>\n",
       "      <td>1.000000</td>\n",
       "      <td>0.000000</td>\n",
       "      <td>1.000000</td>\n",
       "      <td>130.000000</td>\n",
       "      <td>90.000000</td>\n",
       "      <td>...</td>\n",
       "      <td>0.000000</td>\n",
       "      <td>2021.000000</td>\n",
       "      <td>4.000000</td>\n",
       "      <td>0.00000</td>\n",
       "      <td>2021.000000</td>\n",
       "      <td>4.000000</td>\n",
       "      <td>0.000000</td>\n",
       "      <td>2021.000000</td>\n",
       "      <td>4.000000</td>\n",
       "      <td>0.000000</td>\n",
       "    </tr>\n",
       "    <tr>\n",
       "      <th>50%</th>\n",
       "      <td>64866.500000</td>\n",
       "      <td>6.000000</td>\n",
       "      <td>1.000000</td>\n",
       "      <td>3.000000</td>\n",
       "      <td>1.000000</td>\n",
       "      <td>1.000000</td>\n",
       "      <td>0.000000</td>\n",
       "      <td>1.000000</td>\n",
       "      <td>284.000000</td>\n",
       "      <td>147.730000</td>\n",
       "      <td>...</td>\n",
       "      <td>0.000000</td>\n",
       "      <td>2022.000000</td>\n",
       "      <td>6.000000</td>\n",
       "      <td>0.00000</td>\n",
       "      <td>2022.000000</td>\n",
       "      <td>7.000000</td>\n",
       "      <td>0.000000</td>\n",
       "      <td>2022.000000</td>\n",
       "      <td>7.000000</td>\n",
       "      <td>0.000000</td>\n",
       "    </tr>\n",
       "    <tr>\n",
       "      <th>75%</th>\n",
       "      <td>97907.000000</td>\n",
       "      <td>19.000000</td>\n",
       "      <td>1.000000</td>\n",
       "      <td>5.000000</td>\n",
       "      <td>2.000000</td>\n",
       "      <td>2.000000</td>\n",
       "      <td>0.000000</td>\n",
       "      <td>1.000000</td>\n",
       "      <td>576.000000</td>\n",
       "      <td>286.830000</td>\n",
       "      <td>...</td>\n",
       "      <td>0.000000</td>\n",
       "      <td>2022.000000</td>\n",
       "      <td>9.000000</td>\n",
       "      <td>0.00000</td>\n",
       "      <td>2022.000000</td>\n",
       "      <td>9.000000</td>\n",
       "      <td>0.000000</td>\n",
       "      <td>2022.000000</td>\n",
       "      <td>9.000000</td>\n",
       "      <td>1.000000</td>\n",
       "    </tr>\n",
       "    <tr>\n",
       "      <th>max</th>\n",
       "      <td>130957.000000</td>\n",
       "      <td>1322.000000</td>\n",
       "      <td>1.000000</td>\n",
       "      <td>7.000000</td>\n",
       "      <td>323.000000</td>\n",
       "      <td>69.000000</td>\n",
       "      <td>1.000000</td>\n",
       "      <td>1.000000</td>\n",
       "      <td>111112.000000</td>\n",
       "      <td>46485.540000</td>\n",
       "      <td>...</td>\n",
       "      <td>627.000000</td>\n",
       "      <td>2022.000000</td>\n",
       "      <td>12.000000</td>\n",
       "      <td>1.00000</td>\n",
       "      <td>2022.000000</td>\n",
       "      <td>12.000000</td>\n",
       "      <td>1.000000</td>\n",
       "      <td>2022.000000</td>\n",
       "      <td>12.000000</td>\n",
       "      <td>1.000000</td>\n",
       "    </tr>\n",
       "  </tbody>\n",
       "</table>\n",
       "<p>8 rows × 26 columns</p>\n",
       "</div>"
      ],
      "text/plain": [
       "                pmid      lead_time  is_web_direct  checkin_date_index  \\\n",
       "count  500000.000000  422480.000000  500000.000000       500000.000000   \n",
       "mean    65085.346224      17.888234       0.613588            3.640690   \n",
       "std     37832.102477      35.082429       0.486927            1.957982   \n",
       "min         1.000000       0.000000       0.000000            1.000000   \n",
       "25%     32328.000000       1.000000       0.000000            2.000000   \n",
       "50%     64866.500000       6.000000       1.000000            3.000000   \n",
       "75%     97907.000000      19.000000       1.000000            5.000000   \n",
       "max    130957.000000    1322.000000       1.000000            7.000000   \n",
       "\n",
       "         stay_length      nb_adults  child_presence  eligible_to_earn_points  \\\n",
       "count  500000.000000  422480.000000   500000.000000            500000.000000   \n",
       "mean        1.876596       1.631183        0.068646                 0.999648   \n",
       "std         2.551059       0.893649        0.252851                 0.018758   \n",
       "min         0.000000       0.000000        0.000000                 0.000000   \n",
       "25%         1.000000       1.000000        0.000000                 1.000000   \n",
       "50%         1.000000       1.000000        0.000000                 1.000000   \n",
       "75%         2.000000       2.000000        0.000000                 1.000000   \n",
       "max       323.000000      69.000000        1.000000                 1.000000   \n",
       "\n",
       "              points  stay_catotal_eur  ...  gap_bkg_stay_nights  \\\n",
       "count  500000.000000     468236.000000  ...        395245.000000   \n",
       "mean      591.218986        283.055802  ...            -0.079338   \n",
       "std      1394.415718        594.288224  ...             1.679041   \n",
       "min         1.000000      -2015.000000  ...          -279.000000   \n",
       "25%       130.000000         90.000000  ...             0.000000   \n",
       "50%       284.000000        147.730000  ...             0.000000   \n",
       "75%       576.000000        286.830000  ...             0.000000   \n",
       "max    111112.000000      46485.540000  ...           627.000000   \n",
       "\n",
       "       booking_date_year  booking_date_month  booking_date_is_weekend  \\\n",
       "count      422480.000000       422480.000000             500000.00000   \n",
       "mean         2021.531585            6.368865                  0.20008   \n",
       "std             0.511242            3.233611                  0.40006   \n",
       "min          2018.000000            1.000000                  0.00000   \n",
       "25%          2021.000000            4.000000                  0.00000   \n",
       "50%          2022.000000            6.000000                  0.00000   \n",
       "75%          2022.000000            9.000000                  0.00000   \n",
       "max          2022.000000           12.000000                  1.00000   \n",
       "\n",
       "       checkin_date_year  checkin_date_month  checkin_date_is_weekend  \\\n",
       "count      500000.000000       500000.000000            500000.000000   \n",
       "mean         2021.552322            6.559626                 0.246212   \n",
       "std             0.497255            3.230314                 0.430804   \n",
       "min          2021.000000            1.000000                 0.000000   \n",
       "25%          2021.000000            4.000000                 0.000000   \n",
       "50%          2022.000000            7.000000                 0.000000   \n",
       "75%          2022.000000            9.000000                 0.000000   \n",
       "max          2022.000000           12.000000                 1.000000   \n",
       "\n",
       "       checkout_date_year  checkout_date_month  checkout_date_is_weekend  \n",
       "count       500000.000000        500000.000000             500000.000000  \n",
       "mean          2021.554632             6.573424                  0.280268  \n",
       "std              0.497007             3.238207                  0.449131  \n",
       "min           2021.000000             1.000000                  0.000000  \n",
       "25%           2021.000000             4.000000                  0.000000  \n",
       "50%           2022.000000             7.000000                  0.000000  \n",
       "75%           2022.000000             9.000000                  1.000000  \n",
       "max           2022.000000            12.000000                  1.000000  \n",
       "\n",
       "[8 rows x 26 columns]"
      ]
     },
     "execution_count": 18,
     "metadata": {},
     "output_type": "execute_result"
    }
   ],
   "source": [
    "data_explore.describe()"
   ]
  },
  {
   "cell_type": "code",
   "execution_count": 19,
   "id": "ce68c733",
   "metadata": {},
   "outputs": [
    {
     "data": {
      "image/png": "[encoded data removed]",
      "text/plain": [
       "<Figure size 1224x72 with 1 Axes>"
      ]
     },
     "metadata": {
      "needs_background": "light"
     },
     "output_type": "display_data"
    },
    {
     "data": {
      "image/png": "[encoded data removed]",
      "text/plain": [
       "<Figure size 1224x72 with 1 Axes>"
      ]
     },
     "metadata": {
      "needs_background": "light"
     },
     "output_type": "display_data"
    },
    {
     "data": {
      "image/png": "[encoded data removed]",
      "text/plain": [
       "<Figure size 1224x72 with 1 Axes>"
      ]
     },
     "metadata": {
      "needs_background": "light"
     },
     "output_type": "display_data"
    },
    {
     "data": {
      "image/png": "[encoded data removed]",
      "text/plain": [
       "<Figure size 1224x72 with 1 Axes>"
      ]
     },
     "metadata": {
      "needs_background": "light"
     },
     "output_type": "display_data"
    },
    {
     "data": {
      "image/png": "[encoded data removed]",
      "text/plain": [
       "<Figure size 1224x72 with 1 Axes>"
      ]
     },
     "metadata": {
      "needs_background": "light"
     },
     "output_type": "display_data"
    },
    {
     "data": {
      "image/png": "[encoded data removed]",
      "text/plain": [
       "<Figure size 1224x72 with 1 Axes>"
      ]
     },
     "metadata": {
      "needs_background": "light"
     },
     "output_type": "display_data"
    },
    {
     "data": {
      "image/png": "[encoded data removed]",
      "text/plain": [
       "<Figure size 1224x72 with 1 Axes>"
      ]
     },
     "metadata": {
      "needs_background": "light"
     },
     "output_type": "display_data"
    },
    {
     "data": {
      "image/png": "[encoded data removed]",
      "text/plain": [
       "<Figure size 1224x72 with 1 Axes>"
      ]
     },
     "metadata": {
      "needs_background": "light"
     },
     "output_type": "display_data"
    },
    {
     "data": {
      "image/png": "[encoded data removed]",
      "text/plain": [
       "<Figure size 1224x72 with 1 Axes>"
      ]
     },
     "metadata": {
      "needs_background": "light"
     },
     "output_type": "display_data"
    },
    {
     "data": {
      "image/png": "[encoded data removed]",
      "text/plain": [
       "<Figure size 1224x72 with 1 Axes>"
      ]
     },
     "metadata": {
      "needs_background": "light"
     },
     "output_type": "display_data"
    },
    {
     "data": {
      "image/png": "[encoded data removed]",
      "text/plain": [
       "<Figure size 1224x72 with 1 Axes>"
      ]
     },
     "metadata": {
      "needs_background": "light"
     },
     "output_type": "display_data"
    },
    {
     "data": {
      "image/png": "[encoded data removed]",
      "text/plain": [
       "<Figure size 1224x72 with 1 Axes>"
      ]
     },
     "metadata": {
      "needs_background": "light"
     },
     "output_type": "display_data"
    },
    {
     "data": {
      "image/png": "[encoded data removed]",
      "text/plain": [
       "<Figure size 1224x72 with 1 Axes>"
      ]
     },
     "metadata": {
      "needs_background": "light"
     },
     "output_type": "display_data"
    },
    {
     "data": {
      "image/png": "[encoded data removed]",
      "text/plain": [
       "<Figure size 1224x72 with 1 Axes>"
      ]
     },
     "metadata": {
      "needs_background": "light"
     },
     "output_type": "display_data"
    },
    {
     "data": {
      "image/png": "[encoded data removed]",
      "text/plain": [
       "<Figure size 1224x72 with 1 Axes>"
      ]
     },
     "metadata": {
      "needs_background": "light"
     },
     "output_type": "display_data"
    },
    {
     "data": {
      "image/png": "[encoded data removed]",
      "text/plain": [
       "<Figure size 1224x72 with 1 Axes>"
      ]
     },
     "metadata": {
      "needs_background": "light"
     },
     "output_type": "display_data"
    },
    {
     "data": {
      "image/png": "[encoded data removed]",
      "text/plain": [
       "<Figure size 1224x72 with 1 Axes>"
      ]
     },
     "metadata": {
      "needs_background": "light"
     },
     "output_type": "display_data"
    },
    {
     "data": {
      "image/png": "[encoded data removed]",
      "text/plain": [
       "<Figure size 1224x72 with 1 Axes>"
      ]
     },
     "metadata": {
      "needs_background": "light"
     },
     "output_type": "display_data"
    },
    {
     "data": {
      "image/png": "[encoded data removed]",
      "text/plain": [
       "<Figure size 1224x72 with 1 Axes>"
      ]
     },
     "metadata": {
      "needs_background": "light"
     },
     "output_type": "display_data"
    },
    {
     "data": {
      "image/png": "[encoded data removed]",
      "text/plain": [
       "<Figure size 1224x72 with 1 Axes>"
      ]
     },
     "metadata": {
      "needs_background": "light"
     },
     "output_type": "display_data"
    }
   ],
   "source": [
    "# Searching for outliers :\n",
    "# The quartile method would risk removing good values if the sample is healthy to begin with\n",
    "# The best thing to do is to look at the values individually with a professional eye.\n",
    "\n",
    "df_num = data_explore.select_dtypes(include=['int64', 'float64'])\n",
    "for column in df_num:\n",
    "    plt.figure(figsize=(17,1))\n",
    "    sns.boxplot(data=df_num, x=column)\n",
    "\n",
    "# From a business point of view, a large 'stay_nbnights' (max 366 days, which is the case) means a person residing permanently at the hotel.\n",
    "# In the same way that a large 'nb_child' can represent a stay to discover a school for example.\n",
    "# As for the room rate 'stay_caroom_eur' it can be justified by an exceptional service (e.g. Eiffel Tower view).\n",
    "# Thus the choice is made not to touch the values which could appear at first sight as aberrant."
   ]
  },
  {
   "cell_type": "code",
   "execution_count": 20,
   "id": "7e731af0",
   "metadata": {},
   "outputs": [
    {
     "name": "stdout",
     "output_type": "stream",
     "text": [
      "Declared_stay_type\n",
      " None        0.413201\n",
      "leisure     0.388092\n",
      "business    0.198708\n",
      "Name: declared_stay_type, dtype: float64\n",
      "Calculated_stay_type\n",
      " business    0.57973\n",
      "leisure     0.42027\n",
      "Name: calculated_stay_type, dtype: float64\n"
     ]
    },
    {
     "data": {
      "image/png": "[encoded data removed]",
      "text/plain": [
       "<Figure size 432x288 with 1 Axes>"
      ]
     },
     "metadata": {
      "needs_background": "light"
     },
     "output_type": "display_data"
    }
   ],
   "source": [
    "# Repartition des modalités de la variable cible\n",
    "print(\"Declared_stay_type\\n\", data_explore['declared_stay_type'].value_counts(normalize=True))\n",
    "print(\"Calculated_stay_type\\n\", data_explore['calculated_stay_type'].value_counts(normalize=True))\n",
    "\n",
    "sns.countplot(x=data_explore['declared_stay_type'])\n",
    "plt.title(\"Repartition du type de sejour\");"
   ]
  },
  {
   "cell_type": "code",
   "execution_count": 21,
   "id": "b60a1b51",
   "metadata": {},
   "outputs": [
    {
     "data": {
      "image/png": "[encoded data removed]",
      "text/plain": [
       "<Figure size 464.625x360 with 1 Axes>"
      ]
     },
     "metadata": {
      "needs_background": "light"
     },
     "output_type": "display_data"
    }
   ],
   "source": [
    "# is_web_direct\n",
    "sns.catplot(x='is_web_direct', kind=\"count\", hue='declared_stay_type', data=data_explore, sharey=False);"
   ]
  },
  {
   "cell_type": "code",
   "execution_count": 22,
   "id": "363cc382",
   "metadata": {},
   "outputs": [
    {
     "data": {
      "image/png": "[encoded data removed]",
      "text/plain": [
       "<Figure size 464.625x360 with 1 Axes>"
      ]
     },
     "metadata": {
      "needs_background": "light"
     },
     "output_type": "display_data"
    }
   ],
   "source": [
    "# checkin_date_month\n",
    "sns.catplot(x='checkin_date_month', kind=\"count\", hue='declared_stay_type', data=data_explore, sharey=False);"
   ]
  },
  {
   "cell_type": "code",
   "execution_count": 23,
   "id": "6c78903c",
   "metadata": {},
   "outputs": [
    {
     "data": {
      "text/plain": [
       "<seaborn.axisgrid.FacetGrid at 0x1ea6041c250>"
      ]
     },
     "execution_count": 23,
     "metadata": {},
     "output_type": "execute_result"
    },
    {
     "data": {
      "image/png": "[encoded data removed]",
      "text/plain": [
       "<Figure size 464.625x360 with 1 Axes>"
      ]
     },
     "metadata": {
      "needs_background": "light"
     },
     "output_type": "display_data"
    }
   ],
   "source": [
    "# checkin_date_index\n",
    "chart = sns.catplot(x='checkin_date_index', kind=\"count\", hue='declared_stay_type', data=data_explore, sharey=False);\n",
    "chart.set_xticklabels(rotation=45)"
   ]
  },
  {
   "cell_type": "code",
   "execution_count": 24,
   "id": "f9218eb3",
   "metadata": {},
   "outputs": [
    {
     "data": {
      "text/plain": [
       "0    376894\n",
       "1    123106\n",
       "Name: checkin_date_is_weekend, dtype: int64"
      ]
     },
     "execution_count": 24,
     "metadata": {},
     "output_type": "execute_result"
    }
   ],
   "source": [
    "# Quick Data Mining of a build value\n",
    "data_explore['checkin_date_is_weekend'].value_counts()"
   ]
  },
  {
   "cell_type": "code",
   "execution_count": 25,
   "id": "d21e7d25",
   "metadata": {},
   "outputs": [
    {
     "data": {
      "text/plain": [
       "<seaborn.axisgrid.FacetGrid at 0x1ea06c21f40>"
      ]
     },
     "execution_count": 25,
     "metadata": {},
     "output_type": "execute_result"
    },
    {
     "data": {
      "image/png": "[encoded data removed]",
      "text/plain": [
       "<Figure size 464.625x360 with 1 Axes>"
      ]
     },
     "metadata": {
      "needs_background": "light"
     },
     "output_type": "display_data"
    }
   ],
   "source": [
    "# checkin_date_is_weekend\n",
    "chart = sns.catplot(x='checkout_date_is_weekend', kind=\"count\", hue='declared_stay_type', data=data_explore, sharey=False);\n",
    "chart.set_xticklabels(rotation=45)"
   ]
  },
  {
   "cell_type": "code",
   "execution_count": 26,
   "id": "f1e00690",
   "metadata": {},
   "outputs": [
    {
     "name": "stdout",
     "output_type": "stream",
     "text": [
      "[ 1  7 28]\n"
     ]
    },
    {
     "data": {
      "image/png": "[encoded data removed]",
      "text/plain": [
       "<Figure size 1080x360 with 3 Axes>"
      ]
     },
     "metadata": {
      "needs_background": "light"
     },
     "output_type": "display_data"
    }
   ],
   "source": [
    "# stay_length\n",
    "data_explore['stay_length_type'] = data_explore['stay_length']\n",
    "data_explore['stay_length_type'] = np.where(data_explore['stay_length_type'] < 7, 1, data_explore['stay_length_type'])\n",
    "data_explore['stay_length_type'] = np.where((data_explore['stay_length_type'] > 7) & (data_explore['stay_length_type'] < 28), 7, data_explore['stay_length_type'])\n",
    "data_explore['stay_length_type'] = np.where(data_explore['stay_length_type'] > 28, 28, data_explore['stay_length_type'])\n",
    "\n",
    "print(data_explore['stay_length_type'].unique())\n",
    "\n",
    "sns.catplot(x='declared_stay_type', kind=\"count\", col='stay_length_type', data=data_explore, sharey=False);"
   ]
  },
  {
   "cell_type": "code",
   "execution_count": 27,
   "id": "349ddcd3",
   "metadata": {},
   "outputs": [
    {
     "data": {
      "image/png": "[encoded data removed]",
      "text/plain": [
       "<Figure size 464.625x360 with 1 Axes>"
      ]
     },
     "metadata": {
      "needs_background": "light"
     },
     "output_type": "display_data"
    }
   ],
   "source": [
    "# nb_adults\n",
    "import numpy as np\n",
    "\n",
    "data_explore['nb_adults_cat'] = np.where(data_explore['nb_adults'] > 2, '+2', data_explore['nb_adults'])\n",
    "\n",
    "sns.catplot(x='nb_adults_cat', kind=\"count\", hue='declared_stay_type', data=data_explore, sharey=False);"
   ]
  },
  {
   "cell_type": "code",
   "execution_count": 28,
   "id": "001f503d",
   "metadata": {},
   "outputs": [
    {
     "data": {
      "text/plain": [
       "0    465677\n",
       "1     34323\n",
       "Name: child_presence, dtype: int64"
      ]
     },
     "execution_count": 28,
     "metadata": {},
     "output_type": "execute_result"
    }
   ],
   "source": [
    "# Quick Data Mining of a presumed essentiel value\n",
    "data_explore['child_presence'].value_counts()"
   ]
  },
  {
   "cell_type": "code",
   "execution_count": 29,
   "id": "f069c61f",
   "metadata": {},
   "outputs": [
    {
     "data": {
      "image/png": "[encoded data removed]",
      "text/plain": [
       "<Figure size 720x360 with 2 Axes>"
      ]
     },
     "metadata": {
      "needs_background": "light"
     },
     "output_type": "display_data"
    }
   ],
   "source": [
    "# child_presence\n",
    "sns.catplot(x='declared_stay_type', kind=\"count\", col='child_presence', data=data_explore, sharey=False);"
   ]
  },
  {
   "cell_type": "code",
   "execution_count": 10,
   "id": "d7b0cca9",
   "metadata": {},
   "outputs": [
    {
     "name": "stdout",
     "output_type": "stream",
     "text": [
      "<class 'pandas.core.frame.DataFrame'>\n",
      "RangeIndex: 500000 entries, 0 to 499999\n",
      "Data columns (total 40 columns):\n",
      " #   Column                    Non-Null Count   Dtype  \n",
      "---  ------                    --------------   -----  \n",
      " 0   pmid                      500000 non-null  int64  \n",
      " 1   lead_time                 422480 non-null  float64\n",
      " 2   is_web_direct             500000 non-null  int32  \n",
      " 3   checkin_date_index        500000 non-null  int64  \n",
      " 4   stay_length               500000 non-null  int64  \n",
      " 5   booking_status            422480 non-null  object \n",
      " 6   nb_adults                 422480 non-null  float64\n",
      " 7   child_presence            500000 non-null  int32  \n",
      " 8   eligible_to_earn_points   500000 non-null  int32  \n",
      " 9   points                    500000 non-null  int64  \n",
      " 10  stay_catotal_eur          468236 non-null  float64\n",
      " 11  hotel_brand               500000 non-null  object \n",
      " 12  hotel_brand_positionning  500000 non-null  object \n",
      " 13  hotel_rooms               500000 non-null  int64  \n",
      " 14  hotel_sales_organisation  500000 non-null  object \n",
      " 15  hotel_class               500000 non-null  object \n",
      " 16  hotel_location_type       500000 non-null  object \n",
      " 17  hotel_continent           500000 non-null  object \n",
      " 18  hotel_euro_market         500000 non-null  object \n",
      " 19  environment_type          500000 non-null  object \n",
      " 20  declared_stay_type        422480 non-null  object \n",
      " 21  calculated_stay_type      500000 non-null  object \n",
      " 22  is_all_member             500000 non-null  int64  \n",
      " 23  type_member               495988 non-null  object \n",
      " 24  is_member_ibis_business   500000 non-null  int64  \n",
      " 25  is_member_business_plus   500000 non-null  int64  \n",
      " 26  is_member_accor_plus      500000 non-null  int64  \n",
      " 27  is_meeting_planner        500000 non-null  int64  \n",
      " 28  booking_date_year         422480 non-null  float64\n",
      " 29  booking_date_month        422480 non-null  float64\n",
      " 30  booking_date_day_name     422480 non-null  object \n",
      " 31  booking_date_is_weekend   500000 non-null  int32  \n",
      " 32  checkin_date_year         500000 non-null  int64  \n",
      " 33  checkin_date_month        500000 non-null  int64  \n",
      " 34  checkin_date_day_name     500000 non-null  object \n",
      " 35  checkin_date_is_weekend   500000 non-null  int32  \n",
      " 36  checkout_date_year        500000 non-null  int64  \n",
      " 37  checkout_date_month       500000 non-null  int64  \n",
      " 38  checkout_date_day_name    500000 non-null  object \n",
      " 39  checkout_date_is_weekend  500000 non-null  int32  \n",
      "dtypes: float64(5), int32(6), int64(14), object(15)\n",
      "memory usage: 141.1+ MB\n"
     ]
    }
   ],
   "source": [
    "# Cleaning : before check for null data\n",
    "data_explore.info()"
   ]
  },
  {
   "cell_type": "code",
   "execution_count": 11,
   "id": "5b9d2613",
   "metadata": {},
   "outputs": [],
   "source": [
    "encoded_data = data_explore.dropna() # To drop the NAN values"
   ]
  },
  {
   "cell_type": "code",
   "execution_count": 32,
   "id": "5bb1edce",
   "metadata": {},
   "outputs": [
    {
     "name": "stdout",
     "output_type": "stream",
     "text": [
      "<class 'pandas.core.frame.DataFrame'>\n",
      "Int64Index: 388714 entries, 0 to 499998\n",
      "Data columns (total 43 columns):\n",
      " #   Column                    Non-Null Count   Dtype  \n",
      "---  ------                    --------------   -----  \n",
      " 0   pmid                      388714 non-null  int64  \n",
      " 1   lead_time                 388714 non-null  float64\n",
      " 2   is_web_direct             388714 non-null  int32  \n",
      " 3   checkin_date_index        388714 non-null  int64  \n",
      " 4   stay_length               388714 non-null  int64  \n",
      " 5   booking_status            388714 non-null  object \n",
      " 6   nb_adults                 388714 non-null  float64\n",
      " 7   child_presence            388714 non-null  int32  \n",
      " 8   eligible_to_earn_points   388714 non-null  int32  \n",
      " 9   points                    388714 non-null  int64  \n",
      " 10  stay_catotal_eur          388714 non-null  float64\n",
      " 11  hotel_brand               388714 non-null  object \n",
      " 12  hotel_brand_positionning  388714 non-null  object \n",
      " 13  hotel_rooms               388714 non-null  int64  \n",
      " 14  hotel_sales_organisation  388714 non-null  object \n",
      " 15  hotel_class               388714 non-null  object \n",
      " 16  hotel_location_type       388714 non-null  object \n",
      " 17  hotel_continent           388714 non-null  object \n",
      " 18  hotel_euro_market         388714 non-null  object \n",
      " 19  environment_type          388714 non-null  object \n",
      " 20  declared_stay_type        388714 non-null  object \n",
      " 21  calculated_stay_type      388714 non-null  object \n",
      " 22  is_all_member             388714 non-null  int64  \n",
      " 23  type_member               388714 non-null  object \n",
      " 24  is_member_ibis_business   388714 non-null  int64  \n",
      " 25  is_member_business_plus   388714 non-null  int64  \n",
      " 26  is_member_accor_plus      388714 non-null  int64  \n",
      " 27  is_meeting_planner        388714 non-null  int64  \n",
      " 28  gap_bkg_stay_nights       388714 non-null  float64\n",
      " 29  booking_date_year         388714 non-null  float64\n",
      " 30  booking_date_month        388714 non-null  float64\n",
      " 31  booking_date_day_name     388714 non-null  object \n",
      " 32  booking_date_is_weekend   388714 non-null  int32  \n",
      " 33  checkin_date_year         388714 non-null  int64  \n",
      " 34  checkin_date_month        388714 non-null  int64  \n",
      " 35  checkin_date_day_name     388714 non-null  object \n",
      " 36  checkin_date_is_weekend   388714 non-null  int32  \n",
      " 37  checkout_date_year        388714 non-null  int64  \n",
      " 38  checkout_date_month       388714 non-null  int64  \n",
      " 39  checkout_date_day_name    388714 non-null  object \n",
      " 40  checkout_date_is_weekend  388714 non-null  int32  \n",
      " 41  stay_length_type          388714 non-null  int64  \n",
      " 42  nb_adults_cat             388714 non-null  object \n",
      "dtypes: float64(6), int32(6), int64(15), object(16)\n",
      "memory usage: 121.6+ MB\n"
     ]
    }
   ],
   "source": [
    "# Verification : no more null value\n",
    "encoded_data.info()\n",
    "# 388698 is a correct number of lines for working\n",
    "# The sample size was 500.000 lines at the beginning but our project is not called PyCor for nothing ;-)"
   ]
  },
  {
   "cell_type": "code",
   "execution_count": 33,
   "id": "e3a8f3fb",
   "metadata": {},
   "outputs": [
    {
     "name": "stdout",
     "output_type": "stream",
     "text": [
      "<class 'pandas.core.frame.DataFrame'>\n",
      "Int64Index: 228692 entries, 0 to 499994\n",
      "Data columns (total 28 columns):\n",
      " #   Column                    Non-Null Count   Dtype  \n",
      "---  ------                    --------------   -----  \n",
      " 0   pmid                      228692 non-null  int64  \n",
      " 1   lead_time                 228692 non-null  float64\n",
      " 2   is_web_direct             228692 non-null  int32  \n",
      " 3   checkin_date_index        228692 non-null  int64  \n",
      " 4   stay_length               228692 non-null  int64  \n",
      " 5   nb_adults                 228692 non-null  float64\n",
      " 6   child_presence            228692 non-null  int32  \n",
      " 7   eligible_to_earn_points   228692 non-null  int32  \n",
      " 8   points                    228692 non-null  int64  \n",
      " 9   stay_catotal_eur          228692 non-null  float64\n",
      " 10  hotel_rooms               228692 non-null  int64  \n",
      " 11  declared_stay_type        228692 non-null  int64  \n",
      " 12  is_all_member             228692 non-null  int64  \n",
      " 13  is_member_ibis_business   228692 non-null  int64  \n",
      " 14  is_member_business_plus   228692 non-null  int64  \n",
      " 15  is_member_accor_plus      228692 non-null  int64  \n",
      " 16  is_meeting_planner        228692 non-null  int64  \n",
      " 17  gap_bkg_stay_nights       228692 non-null  float64\n",
      " 18  booking_date_year         228692 non-null  float64\n",
      " 19  booking_date_month        228692 non-null  float64\n",
      " 20  booking_date_is_weekend   228692 non-null  int32  \n",
      " 21  checkin_date_year         228692 non-null  int64  \n",
      " 22  checkin_date_month        228692 non-null  int64  \n",
      " 23  checkin_date_is_weekend   228692 non-null  int32  \n",
      " 24  checkout_date_year        228692 non-null  int64  \n",
      " 25  checkout_date_month       228692 non-null  int64  \n",
      " 26  checkout_date_is_weekend  228692 non-null  int32  \n",
      " 27  stay_length_type          228692 non-null  int64  \n",
      "dtypes: float64(6), int32(6), int64(16)\n",
      "memory usage: 45.4 MB\n"
     ]
    },
    {
     "data": {
      "image/png": "[encoded data removed]",
      "text/plain": [
       "<Figure size 1440x720 with 2 Axes>"
      ]
     },
     "metadata": {
      "needs_background": "light"
     },
     "output_type": "display_data"
    }
   ],
   "source": [
    "# Correlation des variables numeriques\n",
    "\n",
    "# On supprime les lignes ou on a pas de valeur et la colonne calculé\n",
    "df_corrnum = encoded_data[encoded_data['declared_stay_type']!='None']\n",
    "df_corrnum = df_corrnum.drop(['calculated_stay_type'], axis = 1)\n",
    "\n",
    "# On remplace les categories par des variables numeriques\n",
    "df_corrnum = df_corrnum.replace(['business'], 1)\n",
    "df_corrnum = df_corrnum.replace(['leisure'], 0)\n",
    "\n",
    "# Extraction des variables numeriques\n",
    "X_num = df_corrnum.select_dtypes(include=['int64','float64','bool','int32'])\n",
    "X_num.info()\n",
    "\n",
    "fig, ax = plt.subplots(figsize=(20,10))\n",
    "sns.heatmap(X_num.corr(), annot= False, cmap= 'bwr',vmin= -1, vmax= 1, square= True, linewidths= 0.5);"
   ]
  },
  {
   "cell_type": "code",
   "execution_count": 34,
   "id": "f0d227f3",
   "metadata": {},
   "outputs": [
    {
     "name": "stdout",
     "output_type": "stream",
     "text": [
      "Original number of features: (228692, 27)\n",
      "Reduced number of features: (228692, 5)\n",
      "Index(['is_web_direct', 'checkin_date_index', 'nb_adults', 'child_presence',\n",
      "       'checkout_date_is_weekend'],\n",
      "      dtype='object')\n"
     ]
    },
    {
     "name": "stderr",
     "output_type": "stream",
     "text": [
      "C:\\Users\\jean_\\anaconda3\\lib\\site-packages\\sklearn\\feature_selection\\_univariate_selection.py:289: RuntimeWarning: divide by zero encountered in divide\n",
      "  correlation_coefficient /= X_norms\n",
      "C:\\Users\\jean_\\anaconda3\\lib\\site-packages\\sklearn\\feature_selection\\_univariate_selection.py:358: RuntimeWarning: invalid value encountered in divide\n",
      "  f_statistic = corr_coef_squared / (1 - corr_coef_squared) * deg_of_freedom\n"
     ]
    }
   ],
   "source": [
    "from sklearn.feature_selection import VarianceThreshold, SelectKBest, SelectFromModel, f_regression, mutual_info_regression, RFE, RFECV\n",
    "from sklearn.model_selection import train_test_split, KFold, GridSearchCV\n",
    "from sklearn.linear_model import LinearRegression, Lasso\n",
    "from sklearn.preprocessing import StandardScaler\n",
    "\n",
    "# SelectKBest\n",
    "X_num = X_num.drop(['declared_stay_type'], axis = 1)\n",
    "y = df_corrnum['declared_stay_type']\n",
    "\n",
    "fvalue_Best = SelectKBest(f_regression, k=5)\n",
    "X_kbest = fvalue_Best.fit_transform(X_num, y)\n",
    "\n",
    "print('Original number of features:', X_num.shape)\n",
    "print('Reduced number of features:', X_kbest.shape)\n",
    "\n",
    "mask = fvalue_Best.get_support()\n",
    "new_features = X_num.columns[mask]\n",
    "print(new_features)"
   ]
  },
  {
   "cell_type": "code",
   "execution_count": 35,
   "id": "922ffb01",
   "metadata": {},
   "outputs": [
    {
     "name": "stdout",
     "output_type": "stream",
     "text": [
      "{'alpha': 0.1111111111111111}\n"
     ]
    },
    {
     "data": {
      "image/png": "[encoded data removed]",
      "text/plain": [
       "<Figure size 1152x144 with 1 Axes>"
      ]
     },
     "metadata": {
      "needs_background": "light"
     },
     "output_type": "display_data"
    },
    {
     "name": "stdout",
     "output_type": "stream",
     "text": [
      "Index(['pmid', 'lead_time', 'checkin_date_index', 'points', 'stay_catotal_eur',\n",
      "       'hotel_rooms'],\n",
      "      dtype='object')\n"
     ]
    }
   ],
   "source": [
    "# SelectFromModel\n",
    "crossval = KFold(n_splits = 5, random_state = 2, shuffle = True)\n",
    "\n",
    "lasso = Lasso(alpha = 1)\n",
    "model = SelectFromModel(estimator = lasso, threshold = 1e-10)\n",
    "model.fit(X_num, y)\n",
    "\n",
    "# La difficulté de ces techniques est alors de choisir judicieusement le paramètre de régularisation.\n",
    "# Creation d'une grille et utilisation d'un GridSearchCV pour rechercher le meilleur parametre alpha\n",
    "alpha_grid = {'alpha':[1/i for i in range(1,10)]}\n",
    "grid = GridSearchCV(estimator = lasso, param_grid = alpha_grid, cv=crossval, scoring = 'neg_mean_squared_error')\n",
    "grid.fit(X_num, y)\n",
    "print(grid.best_params_)\n",
    "\n",
    "# Selection des features en utilisant le best param\n",
    "sel = SelectFromModel(estimator = grid.best_estimator_, threshold = 1e-10, prefit = True)\n",
    "mask = sel.get_support()\n",
    "plt.matshow(mask.reshape(1,-1), cmap = 'gray_r')\n",
    "plt.xlabel('Axe des features');\n",
    "plt.show();\n",
    "\n",
    "new_features = X_num.columns[mask]\n",
    "print(new_features)"
   ]
  },
  {
   "cell_type": "code",
   "execution_count": 36,
   "id": "c519c11c",
   "metadata": {},
   "outputs": [
    {
     "name": "stdout",
     "output_type": "stream",
     "text": [
      "booking_status               3\n",
      "hotel_brand                 46\n",
      "hotel_brand_positionning    24\n",
      "hotel_sales_organisation     8\n",
      "hotel_class                 10\n",
      "hotel_location_type          4\n",
      "hotel_continent              7\n",
      "hotel_euro_market           10\n",
      "environment_type             5\n",
      "declared_stay_type           3\n",
      "calculated_stay_type         2\n",
      "type_member                 13\n",
      "booking_date_day_name        7\n",
      "checkin_date_day_name        7\n",
      "checkout_date_day_name       7\n",
      "nb_adults_cat                4\n",
      "dtype: int64\n"
     ]
    }
   ],
   "source": [
    "# On s'interesse aux modalités de chaque colonne categorielle\n",
    "uniqueValues = encoded_data.select_dtypes(include=['object']).nunique()\n",
    "print(uniqueValues)"
   ]
  },
  {
   "cell_type": "code",
   "execution_count": 37,
   "id": "d7ade3bc",
   "metadata": {},
   "outputs": [
    {
     "name": "stderr",
     "output_type": "stream",
     "text": [
      "C:\\Users\\jean_\\AppData\\Local\\Temp\\ipykernel_18024\\1550235807.py:50: SettingWithCopyWarning: \n",
      "A value is trying to be set on a copy of a slice from a DataFrame\n",
      "\n",
      "See the caveats in the documentation: https://pandas.pydata.org/pandas-docs/stable/user_guide/indexing.html#returning-a-view-versus-a-copy\n",
      "  encoded_data['hotel_brand_positionning'].replace(replacement_positioning, inplace=True)\n"
     ]
    },
    {
     "data": {
      "text/plain": [
       "Midscale              163466\n",
       "Economy               161185\n",
       "Luxury and Upscale     64063\n",
       "Name: hotel_brand_positionning, dtype: int64"
      ]
     },
     "execution_count": 37,
     "metadata": {},
     "output_type": "execute_result"
    }
   ],
   "source": [
    "# Dictionnary\n",
    "\n",
    "replacement_positioning = {  \n",
    "    'IBS' : 'Economy',\n",
    "    'BKF' : 'Economy',\n",
    "    'IBH' : 'Economy',\n",
    "    'IBB' : 'Economy',\n",
    "    'GRE' : 'Economy',\n",
    "    'ADG' : 'Economy',\n",
    "    'HOF' : 'Economy',\n",
    "    'NOV' : 'Midscale', \n",
    "    'SUI' : 'Midscale',\n",
    "    'MER' : 'Midscale',\n",
    "    'SAM' : 'Midscale',\n",
    "    'AHM' : 'Midscale',\n",
    "    'TRI' : 'Midscale',\n",
    "    'MTA' : 'Midscale',\n",
    "    '21C' : 'Midscale', \n",
    "    'MSH' : 'Midscale',\n",
    "    'BME' : 'Midscale',\n",
    "    'MOL' : 'Midscale',\n",
    "    'NOL' : 'Midscale',\n",
    "    'MGS' : 'Luxury and Upscale',  \n",
    "    'ADA' : 'Luxury and Upscale',  \n",
    "    'SOL' : 'Luxury and Upscale', \n",
    "    'SEB' : 'Luxury and Upscale', \n",
    "    'MGA' : 'Luxury and Upscale', \n",
    "    'SOF' : 'Luxury and Upscale',\n",
    "    'FAI' : 'Luxury and Upscale',\n",
    "    'SWI' : 'Luxury and Upscale',\n",
    "    'PUL' : 'Luxury and Upscale',\n",
    "    'RAF' : 'Luxury and Upscale',\n",
    "    'ART' : 'Luxury and Upscale',\n",
    "    'CAS' : 'Luxury and Upscale',\n",
    "    'MOV' : 'Luxury and Upscale',\n",
    "    'MEI' : 'Luxury and Upscale',\n",
    "    'ANG' : 'Luxury and Upscale',\n",
    "    'PEP' : 'Luxury and Upscale',\n",
    "    'SO'  : 'Luxury and Upscale',\n",
    "    'SO/' : 'Luxury and Upscale',\n",
    "    'SOR' : 'Luxury and Upscale',\n",
    "    'SWL' : 'Luxury and Upscale',\n",
    "    'MEL' : 'Luxury and Upscale',\n",
    "    'TOR' : 'Luxury and Upscale',\n",
    "    'FAE' : 'Luxury and Upscale'\n",
    "}\n",
    "\n",
    "# New colomn Hotel Brand Positionning to replace Brand by Replacement Positioning\n",
    "encoded_data['hotel_brand_positionning'].replace(replacement_positioning, inplace=True)\n",
    "\n",
    "# Check brand repartition\n",
    "encoded_data['hotel_brand_positionning'].value_counts()"
   ]
  },
  {
   "cell_type": "code",
   "execution_count": 38,
   "id": "1fa51e9b",
   "metadata": {},
   "outputs": [],
   "source": [
    "# Extraction des variables categoriels\n",
    "X_cat = encoded_data.select_dtypes(include=['object'])\n",
    "X_cat = X_cat.drop(['calculated_stay_type'], axis = 1)"
   ]
  },
  {
   "cell_type": "code",
   "execution_count": 39,
   "id": "e29746e0",
   "metadata": {},
   "outputs": [
    {
     "data": {
      "image/png": "[encoded data removed]",
      "text/plain": [
       "<Figure size 1440x720 with 2 Axes>"
      ]
     },
     "metadata": {
      "needs_background": "light"
     },
     "output_type": "display_data"
    }
   ],
   "source": [
    "from dython.nominal import associations\n",
    "from dython.nominal import identify_nominal_columns\n",
    "\n",
    "cmap = sns.color_palette(\"bwr\", as_cmap=True)\n",
    "categorical_df = X_cat.copy()\n",
    "categorical_correlation= associations(categorical_df, filename= 'categorical_correlation.png', figsize=(20,10), cmap=cmap)"
   ]
  },
  {
   "cell_type": "code",
   "execution_count": 40,
   "id": "9291a131",
   "metadata": {},
   "outputs": [
    {
     "data": {
      "text/html": [
       "<div>\n",
       "<style scoped>\n",
       "    .dataframe tbody tr th:only-of-type {\n",
       "        vertical-align: middle;\n",
       "    }\n",
       "\n",
       "    .dataframe tbody tr th {\n",
       "        vertical-align: top;\n",
       "    }\n",
       "\n",
       "    .dataframe thead th {\n",
       "        text-align: right;\n",
       "    }\n",
       "</style>\n",
       "<table border=\"1\" class=\"dataframe\">\n",
       "  <thead>\n",
       "    <tr style=\"text-align: right;\">\n",
       "      <th>declared_stay_type</th>\n",
       "      <th>None</th>\n",
       "      <th>business</th>\n",
       "      <th>leisure</th>\n",
       "    </tr>\n",
       "    <tr>\n",
       "      <th>hotel_brand</th>\n",
       "      <th></th>\n",
       "      <th></th>\n",
       "      <th></th>\n",
       "    </tr>\n",
       "  </thead>\n",
       "  <tbody>\n",
       "    <tr>\n",
       "      <th>21c MUSEUM HOTELS</th>\n",
       "      <td>13</td>\n",
       "      <td>26</td>\n",
       "      <td>80</td>\n",
       "    </tr>\n",
       "    <tr>\n",
       "      <th>25HOURS</th>\n",
       "      <td>30</td>\n",
       "      <td>147</td>\n",
       "      <td>395</td>\n",
       "    </tr>\n",
       "    <tr>\n",
       "      <th>ADAGIO</th>\n",
       "      <td>1223</td>\n",
       "      <td>531</td>\n",
       "      <td>1567</td>\n",
       "    </tr>\n",
       "    <tr>\n",
       "      <th>ADAGIO ACCESS</th>\n",
       "      <td>631</td>\n",
       "      <td>454</td>\n",
       "      <td>899</td>\n",
       "    </tr>\n",
       "    <tr>\n",
       "      <th>ADAGIO PREMIUM</th>\n",
       "      <td>14</td>\n",
       "      <td>5</td>\n",
       "      <td>13</td>\n",
       "    </tr>\n",
       "    <tr>\n",
       "      <th>ALL SEASONS</th>\n",
       "      <td>20</td>\n",
       "      <td>4</td>\n",
       "      <td>16</td>\n",
       "    </tr>\n",
       "    <tr>\n",
       "      <th>ART SERIES</th>\n",
       "      <td>46</td>\n",
       "      <td>29</td>\n",
       "      <td>73</td>\n",
       "    </tr>\n",
       "    <tr>\n",
       "      <th>BANYAN TREE</th>\n",
       "      <td>43</td>\n",
       "      <td>4</td>\n",
       "      <td>20</td>\n",
       "    </tr>\n",
       "    <tr>\n",
       "      <th>BREAKFREE</th>\n",
       "      <td>48</td>\n",
       "      <td>12</td>\n",
       "      <td>116</td>\n",
       "    </tr>\n",
       "    <tr>\n",
       "      <th>BY MERCURE</th>\n",
       "      <td>3</td>\n",
       "      <td>2</td>\n",
       "      <td>18</td>\n",
       "    </tr>\n",
       "    <tr>\n",
       "      <th>CASSIA</th>\n",
       "      <td>0</td>\n",
       "      <td>0</td>\n",
       "      <td>1</td>\n",
       "    </tr>\n",
       "    <tr>\n",
       "      <th>FAENA</th>\n",
       "      <td>17</td>\n",
       "      <td>1</td>\n",
       "      <td>5</td>\n",
       "    </tr>\n",
       "    <tr>\n",
       "      <th>FAIRMONT</th>\n",
       "      <td>14285</td>\n",
       "      <td>167</td>\n",
       "      <td>900</td>\n",
       "    </tr>\n",
       "    <tr>\n",
       "      <th>GRAND MERCURE</th>\n",
       "      <td>936</td>\n",
       "      <td>308</td>\n",
       "      <td>726</td>\n",
       "    </tr>\n",
       "    <tr>\n",
       "      <th>GREET</th>\n",
       "      <td>305</td>\n",
       "      <td>160</td>\n",
       "      <td>339</td>\n",
       "    </tr>\n",
       "    <tr>\n",
       "      <th>HYDE</th>\n",
       "      <td>6</td>\n",
       "      <td>0</td>\n",
       "      <td>4</td>\n",
       "    </tr>\n",
       "    <tr>\n",
       "      <th>IBIS BUDGET</th>\n",
       "      <td>573</td>\n",
       "      <td>594</td>\n",
       "      <td>1200</td>\n",
       "    </tr>\n",
       "    <tr>\n",
       "      <th>IBIS HOTELS</th>\n",
       "      <td>36979</td>\n",
       "      <td>24911</td>\n",
       "      <td>44787</td>\n",
       "    </tr>\n",
       "    <tr>\n",
       "      <th>IBIS STYLES</th>\n",
       "      <td>17887</td>\n",
       "      <td>11640</td>\n",
       "      <td>20303</td>\n",
       "    </tr>\n",
       "    <tr>\n",
       "      <th>JO&amp;JOE</th>\n",
       "      <td>2</td>\n",
       "      <td>0</td>\n",
       "      <td>3</td>\n",
       "    </tr>\n",
       "    <tr>\n",
       "      <th>MAMA SHELTER</th>\n",
       "      <td>598</td>\n",
       "      <td>215</td>\n",
       "      <td>493</td>\n",
       "    </tr>\n",
       "    <tr>\n",
       "      <th>MANTIS</th>\n",
       "      <td>11</td>\n",
       "      <td>2</td>\n",
       "      <td>16</td>\n",
       "    </tr>\n",
       "    <tr>\n",
       "      <th>MANTRA</th>\n",
       "      <td>551</td>\n",
       "      <td>275</td>\n",
       "      <td>941</td>\n",
       "    </tr>\n",
       "    <tr>\n",
       "      <th>MERCURE</th>\n",
       "      <td>34207</td>\n",
       "      <td>17632</td>\n",
       "      <td>30790</td>\n",
       "    </tr>\n",
       "    <tr>\n",
       "      <th>MGALLERY</th>\n",
       "      <td>339</td>\n",
       "      <td>122</td>\n",
       "      <td>377</td>\n",
       "    </tr>\n",
       "    <tr>\n",
       "      <th>MGALLERY BY SOFITEL</th>\n",
       "      <td>3361</td>\n",
       "      <td>915</td>\n",
       "      <td>3357</td>\n",
       "    </tr>\n",
       "    <tr>\n",
       "      <th>MONDRIAN</th>\n",
       "      <td>32</td>\n",
       "      <td>4</td>\n",
       "      <td>36</td>\n",
       "    </tr>\n",
       "    <tr>\n",
       "      <th>MOVENPICK</th>\n",
       "      <td>1548</td>\n",
       "      <td>397</td>\n",
       "      <td>1456</td>\n",
       "    </tr>\n",
       "    <tr>\n",
       "      <th>MOVENPICK LIVING</th>\n",
       "      <td>2</td>\n",
       "      <td>2</td>\n",
       "      <td>5</td>\n",
       "    </tr>\n",
       "    <tr>\n",
       "      <th>NOVOTEL</th>\n",
       "      <td>28066</td>\n",
       "      <td>14162</td>\n",
       "      <td>26093</td>\n",
       "    </tr>\n",
       "    <tr>\n",
       "      <th>NOVOTEL SUITES</th>\n",
       "      <td>2276</td>\n",
       "      <td>1081</td>\n",
       "      <td>2098</td>\n",
       "    </tr>\n",
       "    <tr>\n",
       "      <th>OTHER BRAND</th>\n",
       "      <td>133</td>\n",
       "      <td>31</td>\n",
       "      <td>140</td>\n",
       "    </tr>\n",
       "    <tr>\n",
       "      <th>PEPPERS</th>\n",
       "      <td>162</td>\n",
       "      <td>59</td>\n",
       "      <td>296</td>\n",
       "    </tr>\n",
       "    <tr>\n",
       "      <th>PULLMAN</th>\n",
       "      <td>5584</td>\n",
       "      <td>1784</td>\n",
       "      <td>4672</td>\n",
       "    </tr>\n",
       "    <tr>\n",
       "      <th>RAFFLES</th>\n",
       "      <td>471</td>\n",
       "      <td>1</td>\n",
       "      <td>48</td>\n",
       "    </tr>\n",
       "    <tr>\n",
       "      <th>REDBURY HOTELS</th>\n",
       "      <td>0</td>\n",
       "      <td>2</td>\n",
       "      <td>4</td>\n",
       "    </tr>\n",
       "    <tr>\n",
       "      <th>RIXOS HOTELS</th>\n",
       "      <td>69</td>\n",
       "      <td>11</td>\n",
       "      <td>102</td>\n",
       "    </tr>\n",
       "    <tr>\n",
       "      <th>SLS</th>\n",
       "      <td>29</td>\n",
       "      <td>3</td>\n",
       "      <td>9</td>\n",
       "    </tr>\n",
       "    <tr>\n",
       "      <th>SO/</th>\n",
       "      <td>266</td>\n",
       "      <td>44</td>\n",
       "      <td>233</td>\n",
       "    </tr>\n",
       "    <tr>\n",
       "      <th>SOFITEL</th>\n",
       "      <td>6486</td>\n",
       "      <td>1983</td>\n",
       "      <td>6473</td>\n",
       "    </tr>\n",
       "    <tr>\n",
       "      <th>SOFITEL LEGEND</th>\n",
       "      <td>50</td>\n",
       "      <td>24</td>\n",
       "      <td>85</td>\n",
       "    </tr>\n",
       "    <tr>\n",
       "      <th>SOFITEL SERVICED RESIDENCES</th>\n",
       "      <td>37</td>\n",
       "      <td>4</td>\n",
       "      <td>47</td>\n",
       "    </tr>\n",
       "    <tr>\n",
       "      <th>SWISSOTEL</th>\n",
       "      <td>1920</td>\n",
       "      <td>101</td>\n",
       "      <td>423</td>\n",
       "    </tr>\n",
       "    <tr>\n",
       "      <th>SWISSOTEL LIVING</th>\n",
       "      <td>7</td>\n",
       "      <td>0</td>\n",
       "      <td>2</td>\n",
       "    </tr>\n",
       "    <tr>\n",
       "      <th>THE SEBEL</th>\n",
       "      <td>684</td>\n",
       "      <td>251</td>\n",
       "      <td>791</td>\n",
       "    </tr>\n",
       "    <tr>\n",
       "      <th>TRIBE</th>\n",
       "      <td>72</td>\n",
       "      <td>45</td>\n",
       "      <td>95</td>\n",
       "    </tr>\n",
       "  </tbody>\n",
       "</table>\n",
       "</div>"
      ],
      "text/plain": [
       "declared_stay_type            None  business  leisure\n",
       "hotel_brand                                          \n",
       "21c MUSEUM HOTELS               13        26       80\n",
       "25HOURS                         30       147      395\n",
       "ADAGIO                        1223       531     1567\n",
       "ADAGIO ACCESS                  631       454      899\n",
       "ADAGIO PREMIUM                  14         5       13\n",
       "ALL SEASONS                     20         4       16\n",
       "ART SERIES                      46        29       73\n",
       "BANYAN TREE                     43         4       20\n",
       "BREAKFREE                       48        12      116\n",
       "BY MERCURE                       3         2       18\n",
       "CASSIA                           0         0        1\n",
       "FAENA                           17         1        5\n",
       "FAIRMONT                     14285       167      900\n",
       "GRAND MERCURE                  936       308      726\n",
       "GREET                          305       160      339\n",
       "HYDE                             6         0        4\n",
       "IBIS BUDGET                    573       594     1200\n",
       "IBIS HOTELS                  36979     24911    44787\n",
       "IBIS STYLES                  17887     11640    20303\n",
       "JO&JOE                           2         0        3\n",
       "MAMA SHELTER                   598       215      493\n",
       "MANTIS                          11         2       16\n",
       "MANTRA                         551       275      941\n",
       "MERCURE                      34207     17632    30790\n",
       "MGALLERY                       339       122      377\n",
       "MGALLERY BY SOFITEL           3361       915     3357\n",
       "MONDRIAN                        32         4       36\n",
       "MOVENPICK                     1548       397     1456\n",
       "MOVENPICK LIVING                 2         2        5\n",
       "NOVOTEL                      28066     14162    26093\n",
       "NOVOTEL SUITES                2276      1081     2098\n",
       "OTHER BRAND                    133        31      140\n",
       "PEPPERS                        162        59      296\n",
       "PULLMAN                       5584      1784     4672\n",
       "RAFFLES                        471         1       48\n",
       "REDBURY HOTELS                   0         2        4\n",
       "RIXOS HOTELS                    69        11      102\n",
       "SLS                             29         3        9\n",
       "SO/                            266        44      233\n",
       "SOFITEL                       6486      1983     6473\n",
       "SOFITEL LEGEND                  50        24       85\n",
       "SOFITEL SERVICED RESIDENCES     37         4       47\n",
       "SWISSOTEL                     1920       101      423\n",
       "SWISSOTEL LIVING                 7         0        2\n",
       "THE SEBEL                      684       251      791\n",
       "TRIBE                           72        45       95"
      ]
     },
     "execution_count": 40,
     "metadata": {},
     "output_type": "execute_result"
    }
   ],
   "source": [
    "from scipy.stats import chi2_contingency\n",
    "\n",
    "table_contingence = pd.crosstab(encoded_data['hotel_brand'],encoded_data['declared_stay_type'])\n",
    "table_contingence"
   ]
  },
  {
   "cell_type": "code",
   "execution_count": 41,
   "id": "68c53dfc",
   "metadata": {},
   "outputs": [
    {
     "name": "stdout",
     "output_type": "stream",
     "text": [
      "Statistique du test :  24425.26463112137\n",
      "p-value :  0.0\n",
      "Degré de liberté :  90\n"
     ]
    }
   ],
   "source": [
    "resultat_chi2 = chi2_contingency(table_contingence)\n",
    "print(\"Statistique du test : \", resultat_chi2[0])\n",
    "print(\"p-value : \", resultat_chi2[1])\n",
    "print(\"Degré de liberté : \", resultat_chi2[2])"
   ]
  },
  {
   "cell_type": "code",
   "execution_count": 12,
   "id": "c78192a3",
   "metadata": {},
   "outputs": [
    {
     "name": "stdout",
     "output_type": "stream",
     "text": [
      "<class 'pandas.core.frame.DataFrame'>\n",
      "Int64Index: 388714 entries, 0 to 499998\n",
      "Data columns (total 40 columns):\n",
      " #   Column                    Non-Null Count   Dtype  \n",
      "---  ------                    --------------   -----  \n",
      " 0   pmid                      388714 non-null  int64  \n",
      " 1   lead_time                 388714 non-null  float64\n",
      " 2   is_web_direct             388714 non-null  int32  \n",
      " 3   checkin_date_index        388714 non-null  int64  \n",
      " 4   stay_length               388714 non-null  int64  \n",
      " 5   booking_status            388714 non-null  object \n",
      " 6   nb_adults                 388714 non-null  float64\n",
      " 7   child_presence            388714 non-null  int32  \n",
      " 8   eligible_to_earn_points   388714 non-null  int32  \n",
      " 9   points                    388714 non-null  int64  \n",
      " 10  stay_catotal_eur          388714 non-null  float64\n",
      " 11  hotel_brand               388714 non-null  object \n",
      " 12  hotel_brand_positionning  388714 non-null  object \n",
      " 13  hotel_rooms               388714 non-null  int64  \n",
      " 14  hotel_sales_organisation  388714 non-null  object \n",
      " 15  hotel_class               388714 non-null  object \n",
      " 16  hotel_location_type       388714 non-null  object \n",
      " 17  hotel_continent           388714 non-null  object \n",
      " 18  hotel_euro_market         388714 non-null  object \n",
      " 19  environment_type          388714 non-null  object \n",
      " 20  declared_stay_type        388714 non-null  object \n",
      " 21  calculated_stay_type      388714 non-null  object \n",
      " 22  is_all_member             388714 non-null  int64  \n",
      " 23  type_member               388714 non-null  object \n",
      " 24  is_member_ibis_business   388714 non-null  int64  \n",
      " 25  is_member_business_plus   388714 non-null  int64  \n",
      " 26  is_member_accor_plus      388714 non-null  int64  \n",
      " 27  is_meeting_planner        388714 non-null  int64  \n",
      " 28  booking_date_year         388714 non-null  float64\n",
      " 29  booking_date_month        388714 non-null  float64\n",
      " 30  booking_date_day_name     388714 non-null  object \n",
      " 31  booking_date_is_weekend   388714 non-null  int32  \n",
      " 32  checkin_date_year         388714 non-null  int64  \n",
      " 33  checkin_date_month        388714 non-null  int64  \n",
      " 34  checkin_date_day_name     388714 non-null  object \n",
      " 35  checkin_date_is_weekend   388714 non-null  int32  \n",
      " 36  checkout_date_year        388714 non-null  int64  \n",
      " 37  checkout_date_month       388714 non-null  int64  \n",
      " 38  checkout_date_day_name    388714 non-null  object \n",
      " 39  checkout_date_is_weekend  388714 non-null  int32  \n",
      "dtypes: float64(5), int32(6), int64(14), object(15)\n",
      "memory usage: 112.7+ MB\n"
     ]
    }
   ],
   "source": [
    "encoded_data.info()"
   ]
  },
  {
   "cell_type": "code",
   "execution_count": 15,
   "id": "e0301648",
   "metadata": {},
   "outputs": [
    {
     "name": "stdout",
     "output_type": "stream",
     "text": [
      "<class 'pandas.core.frame.DataFrame'>\n",
      "Int64Index: 228692 entries, 0 to 499994\n",
      "Data columns (total 37 columns):\n",
      " #   Column                    Non-Null Count   Dtype  \n",
      "---  ------                    --------------   -----  \n",
      " 0   pmid                      228692 non-null  int64  \n",
      " 1   lead_time                 228692 non-null  float64\n",
      " 2   is_web_direct             228692 non-null  int32  \n",
      " 3   checkin_date_index        228692 non-null  int64  \n",
      " 4   stay_length               228692 non-null  int64  \n",
      " 5   booking_status            228692 non-null  object \n",
      " 6   nb_adults                 228692 non-null  float64\n",
      " 7   child_presence            228692 non-null  int32  \n",
      " 8   eligible_to_earn_points   228692 non-null  int32  \n",
      " 9   points                    228692 non-null  int64  \n",
      " 10  stay_catotal_eur          228692 non-null  float64\n",
      " 11  hotel_brand               228692 non-null  object \n",
      " 12  hotel_brand_positionning  228692 non-null  object \n",
      " 13  hotel_rooms               228692 non-null  int64  \n",
      " 14  hotel_sales_organisation  228692 non-null  object \n",
      " 15  hotel_class               228692 non-null  object \n",
      " 16  hotel_location_type       228692 non-null  object \n",
      " 17  hotel_continent           228692 non-null  object \n",
      " 18  hotel_euro_market         228692 non-null  object \n",
      " 19  environment_type          228692 non-null  object \n",
      " 20  is_all_member             228692 non-null  int64  \n",
      " 21  type_member               228692 non-null  object \n",
      " 22  is_member_ibis_business   228692 non-null  int64  \n",
      " 23  is_member_business_plus   228692 non-null  int64  \n",
      " 24  is_member_accor_plus      228692 non-null  int64  \n",
      " 25  is_meeting_planner        228692 non-null  int64  \n",
      " 26  booking_date_year         228692 non-null  float64\n",
      " 27  booking_date_month        228692 non-null  float64\n",
      " 28  booking_date_is_weekend   228692 non-null  int32  \n",
      " 29  checkin_date_year         228692 non-null  int64  \n",
      " 30  checkin_date_month        228692 non-null  int64  \n",
      " 31  checkin_date_day_name     228692 non-null  object \n",
      " 32  checkin_date_is_weekend   228692 non-null  int32  \n",
      " 33  checkout_date_year        228692 non-null  int64  \n",
      " 34  checkout_date_month       228692 non-null  int64  \n",
      " 35  checkout_date_day_name    228692 non-null  object \n",
      " 36  checkout_date_is_weekend  228692 non-null  int32  \n",
      "dtypes: float64(5), int32(6), int64(14), object(12)\n",
      "memory usage: 61.1+ MB\n"
     ]
    }
   ],
   "source": [
    "# Creation of training, validation and test games\n",
    "feature_data = encoded_data[encoded_data['declared_stay_type']!='None']\n",
    "target = feature_data['declared_stay_type']\n",
    "to_drop = ['declared_stay_type', 'calculated_stay_type']\n",
    "feature_data = feature_data.drop(to_drop,axis=1)\n",
    "\n",
    "to_drop_select = [\n",
    "#'pmid',\n",
    "#'lead_time',\n",
    "#is_web_direct', \n",
    "#'checkin_date_index', \n",
    "#'nb_adults', \n",
    "#'child_presence',\n",
    "#'points', \n",
    "#'stay_catotal_eur',\n",
    "#'hotel_brand',\n",
    "#'hotel_rooms',\n",
    "#'hotel_sales_organisation',\n",
    "#'type_member',\n",
    "#'checkout_date_is_weekend',\n",
    "#'hotel_euro_market',\n",
    "#'stay_length', \n",
    "#'eligible_to_earn_points',\n",
    "#'is_all_member',\n",
    "#'is_member_ibis_business',\n",
    "#'is_member_business_plus',\n",
    "#'is_member_accor_plus',\n",
    "#'is_meeting_planner',\n",
    "#'gap_bkg_stay_nights',\n",
    "#'booking_date_year',\n",
    "#'booking_date_month',\n",
    "#'booking_date_is_weekend',\n",
    "#'checkin_date_year',\n",
    "#'checkin_date_month',\n",
    "#'checkin_date_is_weekend',\n",
    "#'checkout_date_year',\n",
    "#'checkout_date_month',\n",
    "##'stay_length_type',\n",
    "#'hotel_brand_positionning',\n",
    "#'hotel_class',\n",
    "#'hotel_location_type',\n",
    "#'hotel_continent',       \n",
    "#'environment_type',\n",
    "'booking_date_day_name',\n",
    "#'checkin_date_day_name',\n",
    "#'checkout_date_day_name',\n",
    "#'booking_status',\n",
    "##'nb_adults_cat'\n",
    "]\n",
    "\n",
    "feature_data = feature_data.drop(to_drop_select,axis=1)\n",
    "feature_data.info()\n",
    "\n",
    "feature_data = pd.get_dummies(feature_data)"
   ]
  },
  {
   "cell_type": "code",
   "execution_count": 61,
   "id": "3812f828",
   "metadata": {},
   "outputs": [
    {
     "data": {
      "text/html": [
       "<div>\n",
       "<style scoped>\n",
       "    .dataframe tbody tr th:only-of-type {\n",
       "        vertical-align: middle;\n",
       "    }\n",
       "\n",
       "    .dataframe tbody tr th {\n",
       "        vertical-align: top;\n",
       "    }\n",
       "\n",
       "    .dataframe thead th {\n",
       "        text-align: right;\n",
       "    }\n",
       "</style>\n",
       "<table border=\"1\" class=\"dataframe\">\n",
       "  <thead>\n",
       "    <tr style=\"text-align: right;\">\n",
       "      <th></th>\n",
       "      <th>pmid</th>\n",
       "      <th>lead_time</th>\n",
       "      <th>is_web_direct</th>\n",
       "      <th>checkin_date_index</th>\n",
       "      <th>stay_length</th>\n",
       "      <th>nb_adults</th>\n",
       "      <th>child_presence</th>\n",
       "      <th>eligible_to_earn_points</th>\n",
       "      <th>points</th>\n",
       "      <th>stay_catotal_eur</th>\n",
       "      <th>...</th>\n",
       "      <th>checkin_date_day_name_Thursday</th>\n",
       "      <th>checkin_date_day_name_Tuesday</th>\n",
       "      <th>checkin_date_day_name_Wednesday</th>\n",
       "      <th>checkout_date_day_name_Friday</th>\n",
       "      <th>checkout_date_day_name_Monday</th>\n",
       "      <th>checkout_date_day_name_Saturday</th>\n",
       "      <th>checkout_date_day_name_Sunday</th>\n",
       "      <th>checkout_date_day_name_Thursday</th>\n",
       "      <th>checkout_date_day_name_Tuesday</th>\n",
       "      <th>checkout_date_day_name_Wednesday</th>\n",
       "    </tr>\n",
       "  </thead>\n",
       "  <tbody>\n",
       "    <tr>\n",
       "      <th>0</th>\n",
       "      <td>1</td>\n",
       "      <td>6.0</td>\n",
       "      <td>1</td>\n",
       "      <td>2</td>\n",
       "      <td>2</td>\n",
       "      <td>1.0</td>\n",
       "      <td>0</td>\n",
       "      <td>1</td>\n",
       "      <td>226</td>\n",
       "      <td>249.15</td>\n",
       "      <td>...</td>\n",
       "      <td>0</td>\n",
       "      <td>1</td>\n",
       "      <td>0</td>\n",
       "      <td>0</td>\n",
       "      <td>0</td>\n",
       "      <td>0</td>\n",
       "      <td>0</td>\n",
       "      <td>1</td>\n",
       "      <td>0</td>\n",
       "      <td>0</td>\n",
       "    </tr>\n",
       "    <tr>\n",
       "      <th>3</th>\n",
       "      <td>1</td>\n",
       "      <td>12.0</td>\n",
       "      <td>1</td>\n",
       "      <td>2</td>\n",
       "      <td>2</td>\n",
       "      <td>1.0</td>\n",
       "      <td>0</td>\n",
       "      <td>1</td>\n",
       "      <td>498</td>\n",
       "      <td>199.02</td>\n",
       "      <td>...</td>\n",
       "      <td>0</td>\n",
       "      <td>0</td>\n",
       "      <td>0</td>\n",
       "      <td>0</td>\n",
       "      <td>0</td>\n",
       "      <td>0</td>\n",
       "      <td>0</td>\n",
       "      <td>0</td>\n",
       "      <td>0</td>\n",
       "      <td>1</td>\n",
       "    </tr>\n",
       "    <tr>\n",
       "      <th>4</th>\n",
       "      <td>1</td>\n",
       "      <td>24.0</td>\n",
       "      <td>1</td>\n",
       "      <td>5</td>\n",
       "      <td>1</td>\n",
       "      <td>1.0</td>\n",
       "      <td>0</td>\n",
       "      <td>1</td>\n",
       "      <td>142</td>\n",
       "      <td>113.80</td>\n",
       "      <td>...</td>\n",
       "      <td>0</td>\n",
       "      <td>0</td>\n",
       "      <td>0</td>\n",
       "      <td>0</td>\n",
       "      <td>1</td>\n",
       "      <td>0</td>\n",
       "      <td>0</td>\n",
       "      <td>0</td>\n",
       "      <td>0</td>\n",
       "      <td>0</td>\n",
       "    </tr>\n",
       "    <tr>\n",
       "      <th>5</th>\n",
       "      <td>1</td>\n",
       "      <td>11.0</td>\n",
       "      <td>1</td>\n",
       "      <td>7</td>\n",
       "      <td>1</td>\n",
       "      <td>1.0</td>\n",
       "      <td>0</td>\n",
       "      <td>1</td>\n",
       "      <td>145</td>\n",
       "      <td>116.06</td>\n",
       "      <td>...</td>\n",
       "      <td>0</td>\n",
       "      <td>0</td>\n",
       "      <td>0</td>\n",
       "      <td>0</td>\n",
       "      <td>1</td>\n",
       "      <td>0</td>\n",
       "      <td>0</td>\n",
       "      <td>0</td>\n",
       "      <td>0</td>\n",
       "      <td>0</td>\n",
       "    </tr>\n",
       "    <tr>\n",
       "      <th>6</th>\n",
       "      <td>1</td>\n",
       "      <td>8.0</td>\n",
       "      <td>1</td>\n",
       "      <td>2</td>\n",
       "      <td>1</td>\n",
       "      <td>1.0</td>\n",
       "      <td>0</td>\n",
       "      <td>1</td>\n",
       "      <td>115</td>\n",
       "      <td>126.30</td>\n",
       "      <td>...</td>\n",
       "      <td>0</td>\n",
       "      <td>1</td>\n",
       "      <td>0</td>\n",
       "      <td>0</td>\n",
       "      <td>0</td>\n",
       "      <td>0</td>\n",
       "      <td>0</td>\n",
       "      <td>0</td>\n",
       "      <td>0</td>\n",
       "      <td>1</td>\n",
       "    </tr>\n",
       "  </tbody>\n",
       "</table>\n",
       "<p>5 rows × 148 columns</p>\n",
       "</div>"
      ],
      "text/plain": [
       "   pmid  lead_time  is_web_direct  checkin_date_index  stay_length  nb_adults  \\\n",
       "0     1        6.0              1                   2            2        1.0   \n",
       "3     1       12.0              1                   2            2        1.0   \n",
       "4     1       24.0              1                   5            1        1.0   \n",
       "5     1       11.0              1                   7            1        1.0   \n",
       "6     1        8.0              1                   2            1        1.0   \n",
       "\n",
       "   child_presence  eligible_to_earn_points  points  stay_catotal_eur  ...  \\\n",
       "0               0                        1     226            249.15  ...   \n",
       "3               0                        1     498            199.02  ...   \n",
       "4               0                        1     142            113.80  ...   \n",
       "5               0                        1     145            116.06  ...   \n",
       "6               0                        1     115            126.30  ...   \n",
       "\n",
       "   checkin_date_day_name_Thursday  checkin_date_day_name_Tuesday  \\\n",
       "0                               0                              1   \n",
       "3                               0                              0   \n",
       "4                               0                              0   \n",
       "5                               0                              0   \n",
       "6                               0                              1   \n",
       "\n",
       "   checkin_date_day_name_Wednesday  checkout_date_day_name_Friday  \\\n",
       "0                                0                              0   \n",
       "3                                0                              0   \n",
       "4                                0                              0   \n",
       "5                                0                              0   \n",
       "6                                0                              0   \n",
       "\n",
       "   checkout_date_day_name_Monday  checkout_date_day_name_Saturday  \\\n",
       "0                              0                                0   \n",
       "3                              0                                0   \n",
       "4                              1                                0   \n",
       "5                              1                                0   \n",
       "6                              0                                0   \n",
       "\n",
       "   checkout_date_day_name_Sunday  checkout_date_day_name_Thursday  \\\n",
       "0                              0                                1   \n",
       "3                              0                                0   \n",
       "4                              0                                0   \n",
       "5                              0                                0   \n",
       "6                              0                                0   \n",
       "\n",
       "   checkout_date_day_name_Tuesday  checkout_date_day_name_Wednesday  \n",
       "0                               0                                 0  \n",
       "3                               0                                 1  \n",
       "4                               0                                 0  \n",
       "5                               0                                 0  \n",
       "6                               0                                 1  \n",
       "\n",
       "[5 rows x 148 columns]"
      ]
     },
     "execution_count": 61,
     "metadata": {},
     "output_type": "execute_result"
    }
   ],
   "source": [
    "feature_data.head()"
   ]
  },
  {
   "cell_type": "code",
   "execution_count": 62,
   "id": "267b6d9e",
   "metadata": {},
   "outputs": [
    {
     "data": {
      "text/plain": [
       "0    business\n",
       "3     leisure\n",
       "4     leisure\n",
       "5    business\n",
       "6    business\n",
       "Name: declared_stay_type, dtype: object"
      ]
     },
     "execution_count": 62,
     "metadata": {},
     "output_type": "execute_result"
    }
   ],
   "source": [
    "target.head()"
   ]
  },
  {
   "cell_type": "code",
   "execution_count": 63,
   "id": "4fd2f6da",
   "metadata": {},
   "outputs": [
    {
     "name": "stdout",
     "output_type": "stream",
     "text": [
      "<class 'pandas.core.frame.DataFrame'>\n",
      "Int64Index: 228692 entries, 0 to 499994\n",
      "Columns: 148 entries, pmid to checkout_date_day_name_Wednesday\n",
      "dtypes: float64(6), int32(6), int64(14), uint8(122)\n",
      "memory usage: 68.5 MB\n",
      "<class 'pandas.core.series.Series'>\n",
      "Int64Index: 228692 entries, 0 to 499994\n",
      "Series name: declared_stay_type\n",
      "Non-Null Count   Dtype \n",
      "--------------   ----- \n",
      "228692 non-null  object\n",
      "dtypes: object(1)\n",
      "memory usage: 3.5+ MB\n"
     ]
    }
   ],
   "source": [
    "feature_data.info()\n",
    "target.info()"
   ]
  },
  {
   "cell_type": "code",
   "execution_count": 16,
   "id": "39b10e8c",
   "metadata": {},
   "outputs": [],
   "source": [
    "# We will keep 20% of the data for the test set\n",
    "X_train, X_test, y_train, y_test= train_test_split(feature_data, target, test_size= 0.2, random_state=321)"
   ]
  },
  {
   "cell_type": "code",
   "execution_count": 17,
   "id": "f4c8b348",
   "metadata": {},
   "outputs": [],
   "source": [
    "scaler= StandardScaler()\n",
    "X_train= scaler.fit_transform(X_train)\n",
    "X_test= scaler.transform(X_test)"
   ]
  },
  {
   "cell_type": "code",
   "execution_count": 18,
   "id": "58618233",
   "metadata": {},
   "outputs": [
    {
     "name": "stdout",
     "output_type": "stream",
     "text": [
      "              precision    recall  f1-score   support\n",
      "\n",
      "    business       0.69      0.62      0.65     15605\n",
      "     leisure       0.81      0.86      0.83     30134\n",
      "\n",
      "    accuracy                           0.78     45739\n",
      "   macro avg       0.75      0.74      0.74     45739\n",
      "weighted avg       0.77      0.78      0.77     45739\n",
      "\n",
      "0.7760991713854697\n"
     ]
    },
    {
     "data": {
      "text/html": [
       "<div>\n",
       "<style scoped>\n",
       "    .dataframe tbody tr th:only-of-type {\n",
       "        vertical-align: middle;\n",
       "    }\n",
       "\n",
       "    .dataframe tbody tr th {\n",
       "        vertical-align: top;\n",
       "    }\n",
       "\n",
       "    .dataframe thead th {\n",
       "        text-align: right;\n",
       "    }\n",
       "</style>\n",
       "<table border=\"1\" class=\"dataframe\">\n",
       "  <thead>\n",
       "    <tr style=\"text-align: right;\">\n",
       "      <th>Classe prédite</th>\n",
       "      <th>business</th>\n",
       "      <th>leisure</th>\n",
       "    </tr>\n",
       "    <tr>\n",
       "      <th>Classe réelle</th>\n",
       "      <th></th>\n",
       "      <th></th>\n",
       "    </tr>\n",
       "  </thead>\n",
       "  <tbody>\n",
       "    <tr>\n",
       "      <th>business</th>\n",
       "      <td>9693</td>\n",
       "      <td>5912</td>\n",
       "    </tr>\n",
       "    <tr>\n",
       "      <th>leisure</th>\n",
       "      <td>4329</td>\n",
       "      <td>25805</td>\n",
       "    </tr>\n",
       "  </tbody>\n",
       "</table>\n",
       "</div>"
      ],
      "text/plain": [
       "Classe prédite  business  leisure\n",
       "Classe réelle                    \n",
       "business            9693     5912\n",
       "leisure             4329    25805"
      ]
     },
     "execution_count": 18,
     "metadata": {},
     "output_type": "execute_result"
    }
   ],
   "source": [
    "# Classification method : Logistic Regression simple\n",
    "from sklearn.metrics import confusion_matrix\n",
    "\n",
    "clf = LogisticRegression(C=1.0)\n",
    "clf.fit(X_train, y_train) \n",
    "\n",
    "y_pred = clf.predict(X_test)\n",
    "\n",
    "# Evaluation \n",
    "print(classification_report(y_true= y_test, y_pred=y_pred))\n",
    "\n",
    "print(clf.score(X_test, y_test))\n",
    "pd.crosstab(y_test, y_pred, rownames=['Classe réelle'], colnames=['Classe prédite'])"
   ]
  },
  {
   "cell_type": "code",
   "execution_count": 49,
   "id": "fe144278",
   "metadata": {},
   "outputs": [
    {
     "name": "stderr",
     "output_type": "stream",
     "text": [
      "C:\\Users\\jean_\\anaconda3\\lib\\site-packages\\sklearn\\linear_model\\_logistic.py:814: ConvergenceWarning: lbfgs failed to converge (status=1):\n",
      "STOP: TOTAL NO. of ITERATIONS REACHED LIMIT.\n",
      "\n",
      "Increase the number of iterations (max_iter) or scale the data as shown in:\n",
      "    https://scikit-learn.org/stable/modules/preprocessing.html\n",
      "Please also refer to the documentation for alternative solver options:\n",
      "    https://scikit-learn.org/stable/modules/linear_model.html#logistic-regression\n",
      "  n_iter_i = _check_optimize_result(\n",
      "C:\\Users\\jean_\\anaconda3\\lib\\site-packages\\sklearn\\linear_model\\_logistic.py:814: ConvergenceWarning: lbfgs failed to converge (status=1):\n",
      "STOP: TOTAL NO. of ITERATIONS REACHED LIMIT.\n",
      "\n",
      "Increase the number of iterations (max_iter) or scale the data as shown in:\n",
      "    https://scikit-learn.org/stable/modules/preprocessing.html\n",
      "Please also refer to the documentation for alternative solver options:\n",
      "    https://scikit-learn.org/stable/modules/linear_model.html#logistic-regression\n",
      "  n_iter_i = _check_optimize_result(\n",
      "C:\\Users\\jean_\\anaconda3\\lib\\site-packages\\sklearn\\linear_model\\_logistic.py:814: ConvergenceWarning: lbfgs failed to converge (status=1):\n",
      "STOP: TOTAL NO. of ITERATIONS REACHED LIMIT.\n",
      "\n",
      "Increase the number of iterations (max_iter) or scale the data as shown in:\n",
      "    https://scikit-learn.org/stable/modules/preprocessing.html\n",
      "Please also refer to the documentation for alternative solver options:\n",
      "    https://scikit-learn.org/stable/modules/linear_model.html#logistic-regression\n",
      "  n_iter_i = _check_optimize_result(\n",
      "C:\\Users\\jean_\\anaconda3\\lib\\site-packages\\sklearn\\linear_model\\_logistic.py:814: ConvergenceWarning: lbfgs failed to converge (status=1):\n",
      "STOP: TOTAL NO. of ITERATIONS REACHED LIMIT.\n",
      "\n",
      "Increase the number of iterations (max_iter) or scale the data as shown in:\n",
      "    https://scikit-learn.org/stable/modules/preprocessing.html\n",
      "Please also refer to the documentation for alternative solver options:\n",
      "    https://scikit-learn.org/stable/modules/linear_model.html#logistic-regression\n",
      "  n_iter_i = _check_optimize_result(\n",
      "C:\\Users\\jean_\\anaconda3\\lib\\site-packages\\sklearn\\linear_model\\_logistic.py:814: ConvergenceWarning: lbfgs failed to converge (status=1):\n",
      "STOP: TOTAL NO. of ITERATIONS REACHED LIMIT.\n",
      "\n",
      "Increase the number of iterations (max_iter) or scale the data as shown in:\n",
      "    https://scikit-learn.org/stable/modules/preprocessing.html\n",
      "Please also refer to the documentation for alternative solver options:\n",
      "    https://scikit-learn.org/stable/modules/linear_model.html#logistic-regression\n",
      "  n_iter_i = _check_optimize_result(\n",
      "C:\\Users\\jean_\\anaconda3\\lib\\site-packages\\sklearn\\linear_model\\_logistic.py:814: ConvergenceWarning: lbfgs failed to converge (status=1):\n",
      "STOP: TOTAL NO. of ITERATIONS REACHED LIMIT.\n",
      "\n",
      "Increase the number of iterations (max_iter) or scale the data as shown in:\n",
      "    https://scikit-learn.org/stable/modules/preprocessing.html\n",
      "Please also refer to the documentation for alternative solver options:\n",
      "    https://scikit-learn.org/stable/modules/linear_model.html#logistic-regression\n",
      "  n_iter_i = _check_optimize_result(\n",
      "C:\\Users\\jean_\\anaconda3\\lib\\site-packages\\sklearn\\linear_model\\_logistic.py:814: ConvergenceWarning: lbfgs failed to converge (status=1):\n",
      "STOP: TOTAL NO. of ITERATIONS REACHED LIMIT.\n",
      "\n",
      "Increase the number of iterations (max_iter) or scale the data as shown in:\n",
      "    https://scikit-learn.org/stable/modules/preprocessing.html\n",
      "Please also refer to the documentation for alternative solver options:\n",
      "    https://scikit-learn.org/stable/modules/linear_model.html#logistic-regression\n",
      "  n_iter_i = _check_optimize_result(\n",
      "C:\\Users\\jean_\\anaconda3\\lib\\site-packages\\sklearn\\linear_model\\_logistic.py:814: ConvergenceWarning: lbfgs failed to converge (status=1):\n",
      "STOP: TOTAL NO. of ITERATIONS REACHED LIMIT.\n",
      "\n",
      "Increase the number of iterations (max_iter) or scale the data as shown in:\n",
      "    https://scikit-learn.org/stable/modules/preprocessing.html\n",
      "Please also refer to the documentation for alternative solver options:\n",
      "    https://scikit-learn.org/stable/modules/linear_model.html#logistic-regression\n",
      "  n_iter_i = _check_optimize_result(\n",
      "C:\\Users\\jean_\\anaconda3\\lib\\site-packages\\sklearn\\linear_model\\_logistic.py:814: ConvergenceWarning: lbfgs failed to converge (status=1):\n",
      "STOP: TOTAL NO. of ITERATIONS REACHED LIMIT.\n",
      "\n",
      "Increase the number of iterations (max_iter) or scale the data as shown in:\n",
      "    https://scikit-learn.org/stable/modules/preprocessing.html\n",
      "Please also refer to the documentation for alternative solver options:\n",
      "    https://scikit-learn.org/stable/modules/linear_model.html#logistic-regression\n",
      "  n_iter_i = _check_optimize_result(\n",
      "C:\\Users\\jean_\\anaconda3\\lib\\site-packages\\sklearn\\linear_model\\_logistic.py:814: ConvergenceWarning: lbfgs failed to converge (status=1):\n",
      "STOP: TOTAL NO. of ITERATIONS REACHED LIMIT.\n",
      "\n",
      "Increase the number of iterations (max_iter) or scale the data as shown in:\n",
      "    https://scikit-learn.org/stable/modules/preprocessing.html\n",
      "Please also refer to the documentation for alternative solver options:\n",
      "    https://scikit-learn.org/stable/modules/linear_model.html#logistic-regression\n",
      "  n_iter_i = _check_optimize_result(\n",
      "C:\\Users\\jean_\\anaconda3\\lib\\site-packages\\sklearn\\linear_model\\_logistic.py:814: ConvergenceWarning: lbfgs failed to converge (status=1):\n",
      "STOP: TOTAL NO. of ITERATIONS REACHED LIMIT.\n",
      "\n",
      "Increase the number of iterations (max_iter) or scale the data as shown in:\n",
      "    https://scikit-learn.org/stable/modules/preprocessing.html\n",
      "Please also refer to the documentation for alternative solver options:\n",
      "    https://scikit-learn.org/stable/modules/linear_model.html#logistic-regression\n",
      "  n_iter_i = _check_optimize_result(\n",
      "C:\\Users\\jean_\\anaconda3\\lib\\site-packages\\sklearn\\linear_model\\_logistic.py:814: ConvergenceWarning: lbfgs failed to converge (status=1):\n",
      "STOP: TOTAL NO. of ITERATIONS REACHED LIMIT.\n",
      "\n",
      "Increase the number of iterations (max_iter) or scale the data as shown in:\n",
      "    https://scikit-learn.org/stable/modules/preprocessing.html\n",
      "Please also refer to the documentation for alternative solver options:\n",
      "    https://scikit-learn.org/stable/modules/linear_model.html#logistic-regression\n",
      "  n_iter_i = _check_optimize_result(\n",
      "C:\\Users\\jean_\\anaconda3\\lib\\site-packages\\sklearn\\linear_model\\_logistic.py:814: ConvergenceWarning: lbfgs failed to converge (status=1):\n",
      "STOP: TOTAL NO. of ITERATIONS REACHED LIMIT.\n",
      "\n",
      "Increase the number of iterations (max_iter) or scale the data as shown in:\n",
      "    https://scikit-learn.org/stable/modules/preprocessing.html\n",
      "Please also refer to the documentation for alternative solver options:\n",
      "    https://scikit-learn.org/stable/modules/linear_model.html#logistic-regression\n",
      "  n_iter_i = _check_optimize_result(\n",
      "C:\\Users\\jean_\\anaconda3\\lib\\site-packages\\sklearn\\linear_model\\_logistic.py:814: ConvergenceWarning: lbfgs failed to converge (status=1):\n",
      "STOP: TOTAL NO. of ITERATIONS REACHED LIMIT.\n",
      "\n",
      "Increase the number of iterations (max_iter) or scale the data as shown in:\n",
      "    https://scikit-learn.org/stable/modules/preprocessing.html\n",
      "Please also refer to the documentation for alternative solver options:\n",
      "    https://scikit-learn.org/stable/modules/linear_model.html#logistic-regression\n",
      "  n_iter_i = _check_optimize_result(\n",
      "C:\\Users\\jean_\\anaconda3\\lib\\site-packages\\sklearn\\linear_model\\_logistic.py:814: ConvergenceWarning: lbfgs failed to converge (status=1):\n",
      "STOP: TOTAL NO. of ITERATIONS REACHED LIMIT.\n",
      "\n",
      "Increase the number of iterations (max_iter) or scale the data as shown in:\n",
      "    https://scikit-learn.org/stable/modules/preprocessing.html\n",
      "Please also refer to the documentation for alternative solver options:\n",
      "    https://scikit-learn.org/stable/modules/linear_model.html#logistic-regression\n",
      "  n_iter_i = _check_optimize_result(\n",
      "C:\\Users\\jean_\\anaconda3\\lib\\site-packages\\sklearn\\linear_model\\_logistic.py:814: ConvergenceWarning: lbfgs failed to converge (status=1):\n",
      "STOP: TOTAL NO. of ITERATIONS REACHED LIMIT.\n",
      "\n",
      "Increase the number of iterations (max_iter) or scale the data as shown in:\n",
      "    https://scikit-learn.org/stable/modules/preprocessing.html\n",
      "Please also refer to the documentation for alternative solver options:\n",
      "    https://scikit-learn.org/stable/modules/linear_model.html#logistic-regression\n",
      "  n_iter_i = _check_optimize_result(\n"
     ]
    },
    {
     "name": "stderr",
     "output_type": "stream",
     "text": [
      "C:\\Users\\jean_\\anaconda3\\lib\\site-packages\\sklearn\\linear_model\\_logistic.py:814: ConvergenceWarning: lbfgs failed to converge (status=1):\n",
      "STOP: TOTAL NO. of ITERATIONS REACHED LIMIT.\n",
      "\n",
      "Increase the number of iterations (max_iter) or scale the data as shown in:\n",
      "    https://scikit-learn.org/stable/modules/preprocessing.html\n",
      "Please also refer to the documentation for alternative solver options:\n",
      "    https://scikit-learn.org/stable/modules/linear_model.html#logistic-regression\n",
      "  n_iter_i = _check_optimize_result(\n",
      "C:\\Users\\jean_\\anaconda3\\lib\\site-packages\\sklearn\\linear_model\\_logistic.py:814: ConvergenceWarning: lbfgs failed to converge (status=1):\n",
      "STOP: TOTAL NO. of ITERATIONS REACHED LIMIT.\n",
      "\n",
      "Increase the number of iterations (max_iter) or scale the data as shown in:\n",
      "    https://scikit-learn.org/stable/modules/preprocessing.html\n",
      "Please also refer to the documentation for alternative solver options:\n",
      "    https://scikit-learn.org/stable/modules/linear_model.html#logistic-regression\n",
      "  n_iter_i = _check_optimize_result(\n",
      "C:\\Users\\jean_\\anaconda3\\lib\\site-packages\\sklearn\\linear_model\\_logistic.py:814: ConvergenceWarning: lbfgs failed to converge (status=1):\n",
      "STOP: TOTAL NO. of ITERATIONS REACHED LIMIT.\n",
      "\n",
      "Increase the number of iterations (max_iter) or scale the data as shown in:\n",
      "    https://scikit-learn.org/stable/modules/preprocessing.html\n",
      "Please also refer to the documentation for alternative solver options:\n",
      "    https://scikit-learn.org/stable/modules/linear_model.html#logistic-regression\n",
      "  n_iter_i = _check_optimize_result(\n",
      "C:\\Users\\jean_\\anaconda3\\lib\\site-packages\\sklearn\\linear_model\\_logistic.py:814: ConvergenceWarning: lbfgs failed to converge (status=1):\n",
      "STOP: TOTAL NO. of ITERATIONS REACHED LIMIT.\n",
      "\n",
      "Increase the number of iterations (max_iter) or scale the data as shown in:\n",
      "    https://scikit-learn.org/stable/modules/preprocessing.html\n",
      "Please also refer to the documentation for alternative solver options:\n",
      "    https://scikit-learn.org/stable/modules/linear_model.html#logistic-regression\n",
      "  n_iter_i = _check_optimize_result(\n",
      "C:\\Users\\jean_\\anaconda3\\lib\\site-packages\\sklearn\\linear_model\\_logistic.py:814: ConvergenceWarning: lbfgs failed to converge (status=1):\n",
      "STOP: TOTAL NO. of ITERATIONS REACHED LIMIT.\n",
      "\n",
      "Increase the number of iterations (max_iter) or scale the data as shown in:\n",
      "    https://scikit-learn.org/stable/modules/preprocessing.html\n",
      "Please also refer to the documentation for alternative solver options:\n",
      "    https://scikit-learn.org/stable/modules/linear_model.html#logistic-regression\n",
      "  n_iter_i = _check_optimize_result(\n",
      "C:\\Users\\jean_\\anaconda3\\lib\\site-packages\\sklearn\\linear_model\\_logistic.py:814: ConvergenceWarning: lbfgs failed to converge (status=1):\n",
      "STOP: TOTAL NO. of ITERATIONS REACHED LIMIT.\n",
      "\n",
      "Increase the number of iterations (max_iter) or scale the data as shown in:\n",
      "    https://scikit-learn.org/stable/modules/preprocessing.html\n",
      "Please also refer to the documentation for alternative solver options:\n",
      "    https://scikit-learn.org/stable/modules/linear_model.html#logistic-regression\n",
      "  n_iter_i = _check_optimize_result(\n",
      "C:\\Users\\jean_\\anaconda3\\lib\\site-packages\\sklearn\\linear_model\\_logistic.py:814: ConvergenceWarning: lbfgs failed to converge (status=1):\n",
      "STOP: TOTAL NO. of ITERATIONS REACHED LIMIT.\n",
      "\n",
      "Increase the number of iterations (max_iter) or scale the data as shown in:\n",
      "    https://scikit-learn.org/stable/modules/preprocessing.html\n",
      "Please also refer to the documentation for alternative solver options:\n",
      "    https://scikit-learn.org/stable/modules/linear_model.html#logistic-regression\n",
      "  n_iter_i = _check_optimize_result(\n",
      "C:\\Users\\jean_\\anaconda3\\lib\\site-packages\\sklearn\\linear_model\\_logistic.py:814: ConvergenceWarning: lbfgs failed to converge (status=1):\n",
      "STOP: TOTAL NO. of ITERATIONS REACHED LIMIT.\n",
      "\n",
      "Increase the number of iterations (max_iter) or scale the data as shown in:\n",
      "    https://scikit-learn.org/stable/modules/preprocessing.html\n",
      "Please also refer to the documentation for alternative solver options:\n",
      "    https://scikit-learn.org/stable/modules/linear_model.html#logistic-regression\n",
      "  n_iter_i = _check_optimize_result(\n",
      "C:\\Users\\jean_\\anaconda3\\lib\\site-packages\\sklearn\\linear_model\\_logistic.py:814: ConvergenceWarning: lbfgs failed to converge (status=1):\n",
      "STOP: TOTAL NO. of ITERATIONS REACHED LIMIT.\n",
      "\n",
      "Increase the number of iterations (max_iter) or scale the data as shown in:\n",
      "    https://scikit-learn.org/stable/modules/preprocessing.html\n",
      "Please also refer to the documentation for alternative solver options:\n",
      "    https://scikit-learn.org/stable/modules/linear_model.html#logistic-regression\n",
      "  n_iter_i = _check_optimize_result(\n",
      "C:\\Users\\jean_\\anaconda3\\lib\\site-packages\\sklearn\\linear_model\\_logistic.py:814: ConvergenceWarning: lbfgs failed to converge (status=1):\n",
      "STOP: TOTAL NO. of ITERATIONS REACHED LIMIT.\n",
      "\n",
      "Increase the number of iterations (max_iter) or scale the data as shown in:\n",
      "    https://scikit-learn.org/stable/modules/preprocessing.html\n",
      "Please also refer to the documentation for alternative solver options:\n",
      "    https://scikit-learn.org/stable/modules/linear_model.html#logistic-regression\n",
      "  n_iter_i = _check_optimize_result(\n",
      "C:\\Users\\jean_\\anaconda3\\lib\\site-packages\\sklearn\\linear_model\\_logistic.py:814: ConvergenceWarning: lbfgs failed to converge (status=1):\n",
      "STOP: TOTAL NO. of ITERATIONS REACHED LIMIT.\n",
      "\n",
      "Increase the number of iterations (max_iter) or scale the data as shown in:\n",
      "    https://scikit-learn.org/stable/modules/preprocessing.html\n",
      "Please also refer to the documentation for alternative solver options:\n",
      "    https://scikit-learn.org/stable/modules/linear_model.html#logistic-regression\n",
      "  n_iter_i = _check_optimize_result(\n",
      "C:\\Users\\jean_\\anaconda3\\lib\\site-packages\\sklearn\\linear_model\\_logistic.py:814: ConvergenceWarning: lbfgs failed to converge (status=1):\n",
      "STOP: TOTAL NO. of ITERATIONS REACHED LIMIT.\n",
      "\n",
      "Increase the number of iterations (max_iter) or scale the data as shown in:\n",
      "    https://scikit-learn.org/stable/modules/preprocessing.html\n",
      "Please also refer to the documentation for alternative solver options:\n",
      "    https://scikit-learn.org/stable/modules/linear_model.html#logistic-regression\n",
      "  n_iter_i = _check_optimize_result(\n",
      "C:\\Users\\jean_\\anaconda3\\lib\\site-packages\\sklearn\\linear_model\\_logistic.py:814: ConvergenceWarning: lbfgs failed to converge (status=1):\n",
      "STOP: TOTAL NO. of ITERATIONS REACHED LIMIT.\n",
      "\n",
      "Increase the number of iterations (max_iter) or scale the data as shown in:\n",
      "    https://scikit-learn.org/stable/modules/preprocessing.html\n",
      "Please also refer to the documentation for alternative solver options:\n",
      "    https://scikit-learn.org/stable/modules/linear_model.html#logistic-regression\n",
      "  n_iter_i = _check_optimize_result(\n",
      "C:\\Users\\jean_\\anaconda3\\lib\\site-packages\\sklearn\\linear_model\\_logistic.py:814: ConvergenceWarning: lbfgs failed to converge (status=1):\n",
      "STOP: TOTAL NO. of ITERATIONS REACHED LIMIT.\n",
      "\n",
      "Increase the number of iterations (max_iter) or scale the data as shown in:\n",
      "    https://scikit-learn.org/stable/modules/preprocessing.html\n",
      "Please also refer to the documentation for alternative solver options:\n",
      "    https://scikit-learn.org/stable/modules/linear_model.html#logistic-regression\n",
      "  n_iter_i = _check_optimize_result(\n"
     ]
    }
   ],
   "source": [
    "# Classification method : Logistic Regression avec GridSearch\n",
    "clf_lr= LogisticRegression()\n",
    "param_grid_lr = {'solver': ['liblinear', 'lbfgs'],'C': np.linspace(0.1,1,10)}\n",
    "gcv_lr = GridSearchCV(estimator=clf_lr, param_grid=param_grid_lr, cv=3)\n",
    "grille = gcv_lr.fit(X_train, y_train)"
   ]
  },
  {
   "cell_type": "code",
   "execution_count": 46,
   "id": "1735e4ee",
   "metadata": {},
   "outputs": [
    {
     "name": "stdout",
     "output_type": "stream",
     "text": [
      "                                               params  mean_test_score\n",
      "0                   {'C': 0.1, 'solver': 'liblinear'}         0.760862\n",
      "1                       {'C': 0.1, 'solver': 'lbfgs'}         0.760687\n",
      "2                   {'C': 0.2, 'solver': 'liblinear'}         0.765601\n",
      "3                       {'C': 0.2, 'solver': 'lbfgs'}         0.765508\n",
      "4   {'C': 0.30000000000000004, 'solver': 'liblinear'}         0.768033\n",
      "5       {'C': 0.30000000000000004, 'solver': 'lbfgs'}         0.767416\n",
      "6                   {'C': 0.4, 'solver': 'liblinear'}         0.769378\n",
      "7                       {'C': 0.4, 'solver': 'lbfgs'}         0.768902\n",
      "8                   {'C': 0.5, 'solver': 'liblinear'}         0.770477\n",
      "9                       {'C': 0.5, 'solver': 'lbfgs'}         0.769323\n",
      "10                  {'C': 0.6, 'solver': 'liblinear'}         0.771346\n",
      "11                      {'C': 0.6, 'solver': 'lbfgs'}         0.770553\n",
      "12   {'C': 0.7000000000000001, 'solver': 'liblinear'}         0.771734\n",
      "13       {'C': 0.7000000000000001, 'solver': 'lbfgs'}         0.770651\n",
      "14                  {'C': 0.8, 'solver': 'liblinear'}         0.772176\n",
      "15                      {'C': 0.8, 'solver': 'lbfgs'}         0.771482\n",
      "16                  {'C': 0.9, 'solver': 'liblinear'}         0.772559\n",
      "17                      {'C': 0.9, 'solver': 'lbfgs'}         0.771838\n",
      "18                  {'C': 1.0, 'solver': 'liblinear'}         0.772712\n",
      "19                      {'C': 1.0, 'solver': 'lbfgs'}         0.772133\n",
      "{'C': 1.0, 'solver': 'liblinear'}\n",
      "              precision    recall  f1-score   support\n",
      "\n",
      "    business       0.70      0.61      0.65     15605\n",
      "     leisure       0.81      0.86      0.84     30134\n",
      "\n",
      "    accuracy                           0.78     45739\n",
      "   macro avg       0.75      0.74      0.74     45739\n",
      "weighted avg       0.77      0.78      0.77     45739\n",
      "\n",
      "0.7758149500426332\n"
     ]
    },
    {
     "data": {
      "text/html": [
       "<div>\n",
       "<style scoped>\n",
       "    .dataframe tbody tr th:only-of-type {\n",
       "        vertical-align: middle;\n",
       "    }\n",
       "\n",
       "    .dataframe tbody tr th {\n",
       "        vertical-align: top;\n",
       "    }\n",
       "\n",
       "    .dataframe thead th {\n",
       "        text-align: right;\n",
       "    }\n",
       "</style>\n",
       "<table border=\"1\" class=\"dataframe\">\n",
       "  <thead>\n",
       "    <tr style=\"text-align: right;\">\n",
       "      <th>Classe prédite</th>\n",
       "      <th>business</th>\n",
       "      <th>leisure</th>\n",
       "    </tr>\n",
       "    <tr>\n",
       "      <th>Classe réelle</th>\n",
       "      <th></th>\n",
       "      <th></th>\n",
       "    </tr>\n",
       "  </thead>\n",
       "  <tbody>\n",
       "    <tr>\n",
       "      <th>business</th>\n",
       "      <td>9488</td>\n",
       "      <td>6117</td>\n",
       "    </tr>\n",
       "    <tr>\n",
       "      <th>leisure</th>\n",
       "      <td>4179</td>\n",
       "      <td>25955</td>\n",
       "    </tr>\n",
       "  </tbody>\n",
       "</table>\n",
       "</div>"
      ],
      "text/plain": [
       "Classe prédite  business  leisure\n",
       "Classe réelle                    \n",
       "business            9488     6117\n",
       "leisure             4179    25955"
      ]
     },
     "execution_count": 46,
     "metadata": {},
     "output_type": "execute_result"
    }
   ],
   "source": [
    "print(pd.DataFrame.from_dict(grille.cv_results_).loc[:,['params', 'mean_test_score']])\n",
    "\n",
    "# Récupérer le meilleur paramètre\n",
    "print(gcv_lr.best_params_)\n",
    "\n",
    "# Evaluation \n",
    "y_pred2 = gcv_lr.predict(X_test)\n",
    "print(classification_report(y_test, y_pred2))\n",
    "\n",
    "print(gcv_lr.score(X_test, y_test))\n",
    "pd.crosstab(y_test, y_pred, rownames=['Classe réelle'], colnames=['Classe prédite'])"
   ]
  },
  {
   "cell_type": "code",
   "execution_count": 19,
   "id": "f9900242",
   "metadata": {},
   "outputs": [
    {
     "name": "stdout",
     "output_type": "stream",
     "text": [
      "              precision    recall  f1-score   support\n",
      "\n",
      "    business       0.75      0.65      0.70     15605\n",
      "     leisure       0.83      0.89      0.86     30134\n",
      "\n",
      "    accuracy                           0.81     45739\n",
      "   macro avg       0.79      0.77      0.78     45739\n",
      "weighted avg       0.80      0.81      0.80     45739\n",
      "\n",
      "0.8071230241150877\n"
     ]
    },
    {
     "data": {
      "text/html": [
       "<div>\n",
       "<style scoped>\n",
       "    .dataframe tbody tr th:only-of-type {\n",
       "        vertical-align: middle;\n",
       "    }\n",
       "\n",
       "    .dataframe tbody tr th {\n",
       "        vertical-align: top;\n",
       "    }\n",
       "\n",
       "    .dataframe thead th {\n",
       "        text-align: right;\n",
       "    }\n",
       "</style>\n",
       "<table border=\"1\" class=\"dataframe\">\n",
       "  <thead>\n",
       "    <tr style=\"text-align: right;\">\n",
       "      <th>Classe prédite</th>\n",
       "      <th>business</th>\n",
       "      <th>leisure</th>\n",
       "    </tr>\n",
       "    <tr>\n",
       "      <th>Classe réelle</th>\n",
       "      <th></th>\n",
       "      <th></th>\n",
       "    </tr>\n",
       "  </thead>\n",
       "  <tbody>\n",
       "    <tr>\n",
       "      <th>business</th>\n",
       "      <td>10104</td>\n",
       "      <td>5501</td>\n",
       "    </tr>\n",
       "    <tr>\n",
       "      <th>leisure</th>\n",
       "      <td>3321</td>\n",
       "      <td>26813</td>\n",
       "    </tr>\n",
       "  </tbody>\n",
       "</table>\n",
       "</div>"
      ],
      "text/plain": [
       "Classe prédite  business  leisure\n",
       "Classe réelle                    \n",
       "business           10104     5501\n",
       "leisure             3321    26813"
      ]
     },
     "execution_count": 19,
     "metadata": {},
     "output_type": "execute_result"
    }
   ],
   "source": [
    "# Classification method : Random Forest simple\n",
    "from sklearn.metrics import confusion_matrix\n",
    "\n",
    "clf = RandomForestClassifier(n_jobs=-1, random_state=321)\n",
    "clf.fit(X_train, y_train) \n",
    "\n",
    "y_pred = clf.predict(X_test)\n",
    "\n",
    "# Evaluation \n",
    "print(classification_report(y_test, y_pred))\n",
    "\n",
    "print(clf.score(X_test, y_test))\n",
    "pd.crosstab(y_test, y_pred, rownames=['Classe réelle'], colnames=['Classe prédite'])"
   ]
  },
  {
   "cell_type": "code",
   "execution_count": 47,
   "id": "c6354891",
   "metadata": {},
   "outputs": [],
   "source": [
    "# Classification method : Random Forest \n",
    "clf_rf= RandomForestClassifier()\n",
    "param_grid_rf = [{'n_estimators': [10, 50, 100],\n",
    "                   'min_samples_leaf': [1, 3, 5],\n",
    "                   'max_features': ['sqrt', 'log2']}]\n",
    "gcv_rf = GridSearchCV(clf_rf, param_grid_rf, cv=3)\n",
    "grille2 = gcv_rf.fit(X_train, y_train)"
   ]
  },
  {
   "cell_type": "code",
   "execution_count": 48,
   "id": "bb3a0e3a",
   "metadata": {},
   "outputs": [
    {
     "name": "stdout",
     "output_type": "stream",
     "text": [
      "                                               params  mean_test_score\n",
      "0   {'max_features': 'sqrt', 'min_samples_leaf': 1...         0.780747\n",
      "1   {'max_features': 'sqrt', 'min_samples_leaf': 1...         0.802654\n",
      "2   {'max_features': 'sqrt', 'min_samples_leaf': 1...         0.805316\n",
      "3   {'max_features': 'sqrt', 'min_samples_leaf': 3...         0.790821\n",
      "4   {'max_features': 'sqrt', 'min_samples_leaf': 3...         0.802151\n",
      "5   {'max_features': 'sqrt', 'min_samples_leaf': 3...         0.803895\n",
      "6   {'max_features': 'sqrt', 'min_samples_leaf': 5...         0.793034\n",
      "7   {'max_features': 'sqrt', 'min_samples_leaf': 5...         0.801867\n",
      "8   {'max_features': 'sqrt', 'min_samples_leaf': 5...         0.801342\n",
      "9   {'max_features': 'log2', 'min_samples_leaf': 1...         0.775330\n",
      "10  {'max_features': 'log2', 'min_samples_leaf': 1...         0.798489\n",
      "11  {'max_features': 'log2', 'min_samples_leaf': 1...         0.801747\n",
      "12  {'max_features': 'log2', 'min_samples_leaf': 3...         0.786880\n",
      "13  {'max_features': 'log2', 'min_samples_leaf': 3...         0.796478\n",
      "14  {'max_features': 'log2', 'min_samples_leaf': 3...         0.798380\n",
      "15  {'max_features': 'log2', 'min_samples_leaf': 5...         0.787169\n",
      "16  {'max_features': 'log2', 'min_samples_leaf': 5...         0.794357\n",
      "17  {'max_features': 'log2', 'min_samples_leaf': 5...         0.795762\n",
      "{'max_features': 'sqrt', 'min_samples_leaf': 1, 'n_estimators': 100}\n",
      "              precision    recall  f1-score   support\n",
      "\n",
      "    business       0.75      0.66      0.70     15605\n",
      "     leisure       0.83      0.89      0.86     30134\n",
      "\n",
      "    accuracy                           0.81     45739\n",
      "   macro avg       0.79      0.77      0.78     45739\n",
      "weighted avg       0.81      0.81      0.81     45739\n",
      "\n",
      "0.8094842475786528\n"
     ]
    },
    {
     "data": {
      "text/html": [
       "<div>\n",
       "<style scoped>\n",
       "    .dataframe tbody tr th:only-of-type {\n",
       "        vertical-align: middle;\n",
       "    }\n",
       "\n",
       "    .dataframe tbody tr th {\n",
       "        vertical-align: top;\n",
       "    }\n",
       "\n",
       "    .dataframe thead th {\n",
       "        text-align: right;\n",
       "    }\n",
       "</style>\n",
       "<table border=\"1\" class=\"dataframe\">\n",
       "  <thead>\n",
       "    <tr style=\"text-align: right;\">\n",
       "      <th>Classe prédite</th>\n",
       "      <th>business</th>\n",
       "      <th>leisure</th>\n",
       "    </tr>\n",
       "    <tr>\n",
       "      <th>Classe réelle</th>\n",
       "      <th></th>\n",
       "      <th></th>\n",
       "    </tr>\n",
       "  </thead>\n",
       "  <tbody>\n",
       "    <tr>\n",
       "      <th>business</th>\n",
       "      <td>10265</td>\n",
       "      <td>5340</td>\n",
       "    </tr>\n",
       "    <tr>\n",
       "      <th>leisure</th>\n",
       "      <td>3353</td>\n",
       "      <td>26781</td>\n",
       "    </tr>\n",
       "  </tbody>\n",
       "</table>\n",
       "</div>"
      ],
      "text/plain": [
       "Classe prédite  business  leisure\n",
       "Classe réelle                    \n",
       "business           10265     5340\n",
       "leisure             3353    26781"
      ]
     },
     "execution_count": 48,
     "metadata": {},
     "output_type": "execute_result"
    }
   ],
   "source": [
    "print(pd.DataFrame.from_dict(grille2.cv_results_).loc[:,['params', 'mean_test_score']])\n",
    "\n",
    "# Récupérer le meilleur paramètre\n",
    "print(gcv_rf.best_params_)\n",
    "\n",
    "# Evaluation \n",
    "y_pred2 = gcv_rf.predict(X_test)\n",
    "print(classification_report(y_test, y_pred2))\n",
    "\n",
    "print(gcv_rf.score(X_test, y_test))\n",
    "pd.crosstab(y_test, y_pred, rownames=['Classe réelle'], colnames=['Classe prédite'])"
   ]
  },
  {
   "cell_type": "code",
   "execution_count": 20,
   "id": "79cc519d",
   "metadata": {},
   "outputs": [
    {
     "name": "stdout",
     "output_type": "stream",
     "text": [
      "              precision    recall  f1-score   support\n",
      "\n",
      "           0       0.84      0.88      0.86     30134\n",
      "           1       0.74      0.68      0.71     15605\n",
      "\n",
      "    accuracy                           0.81     45739\n",
      "   macro avg       0.79      0.78      0.78     45739\n",
      "weighted avg       0.81      0.81      0.81     45739\n",
      "\n",
      "Accuracy of Model:  0.8100089639038894\n"
     ]
    }
   ],
   "source": [
    "# Classification method : XGBOOST simple\n",
    "import xgboost as xgb\n",
    "from sklearn.metrics import accuracy_score\n",
    "\n",
    "targetXGB = target\n",
    "targetXGB = targetXGB.replace(['business'], 1)\n",
    "targetXGB = targetXGB.replace(['leisure'], 0)\n",
    "\n",
    "X_trainXGB, X_testXGB, y_trainXGB, y_testXGB = train_test_split(feature_data, targetXGB, test_size = 0.2, random_state=321)\n",
    "\n",
    "scaler= StandardScaler()\n",
    "X_trainXGB = scaler.fit_transform(X_trainXGB)\n",
    "X_testXGB = scaler.transform(X_testXGB)\n",
    "\n",
    "eval_set = [(X_trainXGB, y_trainXGB),(X_testXGB,y_testXGB)]\n",
    "\n",
    "xgb_classifier = xgb.XGBClassifier(\n",
    "booster=\"gbtree\",\n",
    "subsample=1,\n",
    "colsample_bytree=1,\n",
    "min_child_weight=1,\n",
    "max_depth=6,\n",
    "learning_rate=0.3,\n",
    "n_estimators=100,\n",
    "eval_metric=\"error\",\n",
    "early_stopping_rounds=10)\n",
    "xgb_classifier.fit(X_trainXGB, y_trainXGB, eval_set=eval_set, verbose=0)\n",
    "predictions = xgb_classifier.predict(X_testXGB)\n",
    "\n",
    "# Evaluation \n",
    "print(classification_report(y_testXGB, predictions))\n",
    "\n",
    "print(\"Accuracy of Model: \", accuracy_score(y_testXGB, predictions))"
   ]
  },
  {
   "cell_type": "code",
   "execution_count": 52,
   "id": "cb7be105",
   "metadata": {},
   "outputs": [
    {
     "name": "stdout",
     "output_type": "stream",
     "text": [
      "{'colsample_bytree': 1, 'learning_rate': 0.1, 'max_depth': 12, 'min_child_weight': 1, 'n_estimators': 100, 'subsample': 1}\n",
      "Accuracy: 0.8198255318218588\n"
     ]
    }
   ],
   "source": [
    "# Classification method : XGBOOST\n",
    "\n",
    "PARAMETERS = {\"subsample\":[0.5, 0.75, 1],\n",
    "\"colsample_bytree\":[0.5, 0.75, 1],\n",
    "\"max_depth\":[2, 6, 12],\n",
    "\"min_child_weight\":[1,5,15],\n",
    "\"learning_rate\":[0.3, 0.1, 0.03],\n",
    "\"n_estimators\":[100]}\n",
    "\n",
    "#Initialise XGBoost Model\n",
    "xgb_classifier = xgb.XGBClassifier(n_estimators=100, n_jobs=-1, early_stopping_rounds=10, eval_metric=\"error\")\n",
    "xgb_classifier_gs = GridSearchCV(xgb_classifier, param_grid=PARAMETERS, cv=3, scoring=\"accuracy\")\n",
    "xgb_classifier_gs.fit(X_trainXGB, y_trainXGB, eval_set=eval_set, verbose=0)\n",
    "print(xgb_classifier_gs.best_params_)\n",
    "\n",
    "predictions = xgb_classifier_gs.predict(X_testXGB)\n",
    "print('Accuracy:',accuracy_score(y_testXGB, predictions))"
   ]
  },
  {
   "cell_type": "code",
   "execution_count": 22,
   "id": "90845da1",
   "metadata": {},
   "outputs": [
    {
     "name": "stdout",
     "output_type": "stream",
     "text": [
      "              precision    recall  f1-score   support\n",
      "\n",
      "           0       0.85      0.89      0.87     30134\n",
      "           1       0.76      0.70      0.73     15605\n",
      "\n",
      "    accuracy                           0.82     45739\n",
      "   macro avg       0.81      0.79      0.80     45739\n",
      "weighted avg       0.82      0.82      0.82     45739\n",
      "\n",
      "Accuracy of Model:  0.8233673670172064\n"
     ]
    }
   ],
   "source": [
    "# Classification method : XGBOOST simple avec parametres optimisées\n",
    "import xgboost as xgb\n",
    "from sklearn.metrics import accuracy_score\n",
    "\n",
    "targetXGB = target\n",
    "targetXGB = targetXGB.replace(['business'], 1)\n",
    "targetXGB = targetXGB.replace(['leisure'], 0)\n",
    "\n",
    "X_trainXGB, X_testXGB, y_trainXGB, y_testXGB = train_test_split(feature_data, targetXGB, test_size = 0.2, random_state=321)\n",
    "\n",
    "scaler= StandardScaler()\n",
    "X_trainXGB = scaler.fit_transform(X_trainXGB)\n",
    "X_testXGB = scaler.transform(X_testXGB)\n",
    "\n",
    "eval_set = [(X_trainXGB, y_trainXGB),(X_testXGB,y_testXGB)]\n",
    "\n",
    "xgb_classifier = xgb.XGBClassifier(\n",
    "booster=\"gbtree\",\n",
    "subsample=1,\n",
    "colsample_bytree=1,\n",
    "min_child_weight=1,\n",
    "max_depth=12,\n",
    "learning_rate=0.1,\n",
    "n_estimators=200,\n",
    "eval_metric=\"error\",\n",
    "early_stopping_rounds=10)\n",
    "xgb_classifier.fit(X_trainXGB, y_trainXGB, eval_set=eval_set, verbose=0)\n",
    "predictions = xgb_classifier.predict(X_testXGB)\n",
    "\n",
    "# Evaluation \n",
    "print(classification_report(y_testXGB, predictions))\n",
    "\n",
    "print(\"Accuracy of Model: \", accuracy_score(y_testXGB, predictions))"
   ]
  },
  {
   "cell_type": "code",
   "execution_count": 53,
   "id": "be5c3e63",
   "metadata": {},
   "outputs": [
    {
     "name": "stdout",
     "output_type": "stream",
     "text": [
      "['pmid', 'lead_time', 'is_web_direct', 'checkin_date_index', 'stay_length', 'nb_adults', 'child_presence', 'eligible_to_earn_points', 'points', 'stay_catotal_eur', 'hotel_rooms', 'is_all_member', 'is_member_ibis_business', 'is_member_business_plus', 'is_member_accor_plus', 'is_meeting_planner', 'gap_bkg_stay_nights', 'booking_date_year', 'booking_date_month', 'booking_date_is_weekend', 'checkin_date_year', 'checkin_date_month', 'checkin_date_is_weekend', 'checkout_date_year', 'checkout_date_month', 'checkout_date_is_weekend', 'booking_status_A', 'booking_status_M', 'booking_status_N', 'hotel_brand_21c MUSEUM HOTELS', 'hotel_brand_25HOURS', 'hotel_brand_ADAGIO', 'hotel_brand_ADAGIO ACCESS', 'hotel_brand_ADAGIO PREMIUM', 'hotel_brand_ALL SEASONS', 'hotel_brand_ART SERIES', 'hotel_brand_BANYAN TREE', 'hotel_brand_BREAKFREE', 'hotel_brand_BY MERCURE', 'hotel_brand_CASSIA', 'hotel_brand_FAENA', 'hotel_brand_FAIRMONT', 'hotel_brand_GRAND MERCURE', 'hotel_brand_GREET', 'hotel_brand_HYDE', 'hotel_brand_IBIS BUDGET', 'hotel_brand_IBIS HOTELS', 'hotel_brand_IBIS STYLES', 'hotel_brand_JO&JOE', 'hotel_brand_MAMA SHELTER', 'hotel_brand_MANTIS', 'hotel_brand_MANTRA', 'hotel_brand_MERCURE', 'hotel_brand_MGALLERY', 'hotel_brand_MGALLERY BY SOFITEL', 'hotel_brand_MONDRIAN', 'hotel_brand_MOVENPICK', 'hotel_brand_MOVENPICK LIVING', 'hotel_brand_NOVOTEL', 'hotel_brand_NOVOTEL SUITES', 'hotel_brand_OTHER BRAND', 'hotel_brand_PEPPERS', 'hotel_brand_PULLMAN', 'hotel_brand_RAFFLES', 'hotel_brand_REDBURY HOTELS', 'hotel_brand_RIXOS HOTELS', 'hotel_brand_SLS', 'hotel_brand_SO/', 'hotel_brand_SOFITEL', 'hotel_brand_SOFITEL LEGEND', 'hotel_brand_SOFITEL SERVICED RESIDENCES', 'hotel_brand_SWISSOTEL', 'hotel_brand_SWISSOTEL LIVING', 'hotel_brand_THE SEBEL', 'hotel_brand_TRIBE', 'hotel_brand_positionning_Economy', 'hotel_brand_positionning_Luxury and Upscale', 'hotel_brand_positionning_Midscale', 'hotel_sales_organisation_Greater China', 'hotel_sales_organisation_IMEA', 'hotel_sales_organisation_North & Central America, Caribbe', 'hotel_sales_organisation_Northern Europe', 'hotel_sales_organisation_Pacific', 'hotel_sales_organisation_South America', 'hotel_sales_organisation_Southeast Asia', 'hotel_sales_organisation_Southern Europe', 'hotel_class_A', 'hotel_class_B', 'hotel_class_C', 'hotel_class_D', 'hotel_class_E', 'hotel_class_F', 'hotel_class_G', 'hotel_class_H', 'hotel_class_I', 'hotel_class_X', 'hotel_location_type_Other Location and Suburbs', 'hotel_location_type_Prime Location', 'hotel_location_type_Second Location', 'hotel_location_type_Unknown Location', 'hotel_continent_AFRICA', 'hotel_continent_ASIA', 'hotel_continent_EUROPE', 'hotel_continent_MIDDLE EAST', 'hotel_continent_NORTH AMERICA', 'hotel_continent_PACIFIC', 'hotel_continent_SOUTH AMERICA', 'hotel_euro_market_AFRICA', 'hotel_euro_market_ASIA', 'hotel_euro_market_FRANCE', 'hotel_euro_market_GERMANY', 'hotel_euro_market_MIDDLE EAST', 'hotel_euro_market_NORTH AMERICA', 'hotel_euro_market_PACIFIC', 'hotel_euro_market_REST OF EUROPE', 'hotel_euro_market_SOUTH AMERICA', 'hotel_euro_market_UK&IE', 'environment_type_AIRPORT', 'environment_type_MOUNTAIN', 'environment_type_None', 'environment_type_SEA', 'environment_type_TOWN', 'type_member_ALL Classic', 'type_member_ALL Diamond', 'type_member_ALL Gold', 'type_member_ALL Limitless', 'type_member_ALL Platinum', 'type_member_ALL Silver', 'type_member_Accor Plus Diamond', 'type_member_Accor Plus Gold', 'type_member_Accor Plus Platinum', 'type_member_Accor Plus Silver', 'type_member_BUSINESS PLUS', 'type_member_ibis BUSINESS', 'checkin_date_day_name_Friday', 'checkin_date_day_name_Monday', 'checkin_date_day_name_Saturday', 'checkin_date_day_name_Sunday', 'checkin_date_day_name_Thursday', 'checkin_date_day_name_Tuesday', 'checkin_date_day_name_Wednesday', 'checkout_date_day_name_Friday', 'checkout_date_day_name_Monday', 'checkout_date_day_name_Saturday', 'checkout_date_day_name_Sunday', 'checkout_date_day_name_Thursday', 'checkout_date_day_name_Tuesday', 'checkout_date_day_name_Wednesday']\n"
     ]
    }
   ],
   "source": [
    "my_list = list(feature_data)\n",
    "print (my_list)"
   ]
  },
  {
   "cell_type": "code",
   "execution_count": 47,
   "id": "4783a56a",
   "metadata": {},
   "outputs": [
    {
     "name": "stdout",
     "output_type": "stream",
     "text": [
      "[False False  True  True False  True False False False False False False\n",
      " False False False False False False False False False False False False\n",
      " False False False False False False False False False False False False\n",
      " False False False False False False False False False False False False\n",
      " False False False False False False False False False False False False\n",
      " False False False False False False False False False False False False\n",
      " False False False False False False False False False False False False\n",
      " False False False False False False False False False False False False\n",
      " False False False False False False False False False False False False\n",
      " False False False False False False False False False False False False\n",
      " False False False False False False False False False False False False\n",
      " False False False False False False False False False False False False\n",
      " False False False False]\n",
      "[ 27  33   1   1  25   1   2 123  45  50  61 129  49  13  26  44  23  31\n",
      "  19  73  30  32 101   3  10  75  59  41 105 137  21  63  66 113 133 108\n",
      " 135 119 138 131 120  83  85 112 122  95  52  40 136  80 134  84  97 114\n",
      " 106 116 111 140  62  70 115 143  99 109 146 121 124 104  71 117 142 100\n",
      " 126 107 118  22  17  38  47  48  96  58  46  39  36   9  68  79  43  86\n",
      "  42  53  55  56  82  98  90  67  74 130  28  15  24  16 103 144  11 145\n",
      " 141  20  29 139 128 125  57 132  14  54  93  76   8  64   4   6  35  94\n",
      "   5   7  18  77  37  12 110 127  65  69  72  87  51  91  88  34  92 102\n",
      "  60  78  81  89]\n"
     ]
    }
   ],
   "source": [
    "from sklearn.feature_selection import RFE\n",
    "from xgboost.sklearn import XGBClassifier\n",
    "\n",
    "estimator = XGBClassifier()\n",
    "rfe = RFE(estimator, step=1, n_features_to_select=3)\n",
    "rfe = rfe.fit(X_trainXGB, y_trainXGB)\n",
    "\n",
    "print(rfe.support_)\n",
    "print(rfe.ranking_)"
   ]
  },
  {
   "cell_type": "code",
   "execution_count": 47,
   "id": "91df7958",
   "metadata": {},
   "outputs": [],
   "source": [
    "# Recursive feature elimination\n",
    "from xgboost.sklearn import XGBClassifier\n",
    "from sklearn.feature_selection import RFE\n",
    "from sklearn.metrics import f1_score, make_scorer\n",
    "\n",
    "f1_scorer = make_scorer(f1_score, average='binary', pos_label=1)\n",
    "\n",
    "estimator = XGBClassifier()\n",
    "selector = RFECV(estimator, step=1, min_features_to_select=1, cv=5, scoring=f1_scorer)"
   ]
  },
  {
   "cell_type": "code",
   "execution_count": 48,
   "id": "764f4310",
   "metadata": {},
   "outputs": [],
   "source": [
    "#fit the model, get a rank of the variables, and a matrix of the selected X variables\n",
    "selector = selector.fit(X_trainXGB, y_trainXGB)"
   ]
  },
  {
   "cell_type": "code",
   "execution_count": 49,
   "id": "ee4d142d",
   "metadata": {},
   "outputs": [
    {
     "name": "stdout",
     "output_type": "stream",
     "text": [
      "[ True  True  True  True  True  True  True False  True  True  True False\n",
      "  True  True  True  True  True  True  True  True  True  True  True  True\n",
      "  True  True  True  True  True False  True  True  True False False False\n",
      " False False False False False False  True False False  True  True  True\n",
      " False  True False False  True False  True False False False  True  True\n",
      " False False  True False False False False False  True False False False\n",
      " False False False  True  True  True  True  True False  True  True  True\n",
      "  True  True  True  True  True  True  True  True  True  True  True  True\n",
      "  True  True  True False  True  True  True  True False False  True False\n",
      " False  True  True False False False  True False  True  True  True  True\n",
      "  True  True  True  True  True  True  True  True  True  True  True  True\n",
      " False False  True  True  True False  True  True  True False False  True\n",
      "  True  True  True  True]\n",
      "[ 1  1  1  1  1  1  1 23  1  1  1 31  1  1  1  1  1  1  1  1  1  1  1  1\n",
      "  1  1  1  1  1 30  1  1  1 39 38 16 36  8 28 44 37  2  1  6 41  1  1  1\n",
      " 47  1 45 10  1 13  1 21 19 25  1  1 17 26  1  7 48 20 35 14  1 50 43 18\n",
      " 46  9 49  1  1  1  1  1 12  1  1  1  1  1  1  1  1  1  1  1  1  1  1  1\n",
      "  1  1  1 42  1  1  1  1  4 24  1 27 32  1  1 22 33 34  1 29  1  1  1  1\n",
      "  1  1  1  1  1  1  1  1  1  1  1  1 15 40  1  1  1 11  1  1  1  3  5  1\n",
      "  1  1  1  1]\n"
     ]
    }
   ],
   "source": [
    "print(selector.support_)\n",
    "print(selector.ranking_)"
   ]
  },
  {
   "cell_type": "code",
   "execution_count": 56,
   "id": "dfd40fe5",
   "metadata": {},
   "outputs": [],
   "source": [
    "to_drop_select_XGBRFE = ['eligible_to_earn_points', \n",
    "'is_all_member', \n",
    "'hotel_brand_21c MUSEUM HOTELS', \n",
    "'hotel_brand_ADAGIO PREMIUM', 'hotel_brand_ALL SEASONS', 'hotel_brand_ART SERIES', 'hotel_brand_BANYAN TREE', 'hotel_brand_BREAKFREE', 'hotel_brand_BY MERCURE', 'hotel_brand_CASSIA', 'hotel_brand_FAENA', 'hotel_brand_FAIRMONT', \n",
    "'hotel_brand_GREET', 'hotel_brand_HYDE', \n",
    "'hotel_brand_JO&JOE', \n",
    "'hotel_brand_MANTIS', 'hotel_brand_MANTRA', \n",
    "'hotel_brand_MGALLERY', \n",
    "'hotel_brand_MONDRIAN', 'hotel_brand_MOVENPICK', 'hotel_brand_MOVENPICK LIVING', \n",
    "'hotel_brand_OTHER BRAND', 'hotel_brand_PEPPERS', \n",
    "'hotel_brand_RAFFLES', 'hotel_brand_REDBURY HOTELS', 'hotel_brand_RIXOS HOTELS', 'hotel_brand_SLS', 'hotel_brand_SO/',  \n",
    "'hotel_brand_SOFITEL LEGEND', 'hotel_brand_SOFITEL SERVICED RESIDENCES', 'hotel_brand_SWISSOTEL', 'hotel_brand_SWISSOTEL LIVING', 'hotel_brand_THE SEBEL', 'hotel_brand_TRIBE', \n",
    "'hotel_sales_organisation_North & Central America, Caribbe', \n",
    "'hotel_location_type_Unknown Location', \n",
    "'hotel_continent_NORTH AMERICA', 'hotel_continent_PACIFIC', \n",
    "'hotel_euro_market_AFRICA', 'hotel_euro_market_ASIA', \n",
    "'hotel_euro_market_MIDDLE EAST', 'hotel_euro_market_NORTH AMERICA', 'hotel_euro_market_PACIFIC', \n",
    "'hotel_euro_market_SOUTH AMERICA', \n",
    "'type_member_BUSINESS PLUS', 'type_member_ibis BUSINESS', \n",
    "'checkin_date_day_name_Sunday', \n",
    "'checkout_date_day_name_Friday', 'checkout_date_day_name_Monday']\n",
    "\n",
    "feature_data_Business = feature_data.drop(to_drop_select_XGBRFE,axis=1)"
   ]
  },
  {
   "cell_type": "code",
   "execution_count": 59,
   "id": "4ab3c9e4",
   "metadata": {},
   "outputs": [
    {
     "name": "stdout",
     "output_type": "stream",
     "text": [
      "              precision    recall  f1-score   support\n",
      "\n",
      "           0       0.85      0.89      0.87     30134\n",
      "           1       0.76      0.70      0.73     15605\n",
      "\n",
      "    accuracy                           0.82     45739\n",
      "   macro avg       0.80      0.79      0.80     45739\n",
      "weighted avg       0.82      0.82      0.82     45739\n",
      "\n",
      "Accuracy of Model:  0.8211810489953869\n"
     ]
    }
   ],
   "source": [
    "X_trainXGB, X_testXGB, y_trainXGB, y_testXGB = train_test_split(feature_data_Business, targetXGB, test_size = 0.2, random_state=321)\n",
    "\n",
    "scaler= StandardScaler()\n",
    "X_trainXGB = scaler.fit_transform(X_trainXGB)\n",
    "X_testXGB = scaler.transform(X_testXGB)\n",
    "\n",
    "eval_set = [(X_trainXGB, y_trainXGB),(X_testXGB,y_testXGB)]\n",
    "\n",
    "xgb_classifier = xgb.XGBClassifier(\n",
    "booster=\"gbtree\",\n",
    "subsample=1,\n",
    "colsample_bytree=1,\n",
    "min_child_weight=1,\n",
    "max_depth=12,\n",
    "learning_rate=0.1,\n",
    "n_estimators=200,\n",
    "eval_metric=\"error\",\n",
    "early_stopping_rounds=10)\n",
    "xgb_classifier.fit(X_trainXGB, y_trainXGB, eval_set=eval_set, verbose=0)\n",
    "predictions = xgb_classifier.predict(X_testXGB)\n",
    "\n",
    "# Evaluation \n",
    "print(classification_report(y_testXGB, predictions))\n",
    "\n",
    "print(\"Accuracy of Model: \", accuracy_score(y_testXGB, predictions))"
   ]
  },
  {
   "cell_type": "code",
   "execution_count": 51,
   "id": "d889f91f",
   "metadata": {},
   "outputs": [
    {
     "name": "stdout",
     "output_type": "stream",
     "text": [
      "Classes échantillon SMOTE : {1: 120413, 0: 120413}\n"
     ]
    }
   ],
   "source": [
    "##################################################\n",
    "# Augmentation du F1 Score pour la partie Business\n",
    "##################################################\n",
    "\n",
    "# Test ajustement du jeu par SMOTE\n",
    "from imblearn.over_sampling import RandomOverSampler, SMOTE\n",
    "from imblearn.under_sampling import RandomUnderSampler,  ClusterCentroids\n",
    "\n",
    "smo = SMOTE()\n",
    "X_trainSMO, y_trainSMO = smo.fit_resample(X_trainXGB, y_trainXGB)\n",
    "print('Classes échantillon SMOTE :', dict(pd.Series(y_trainSMO).value_counts()))"
   ]
  },
  {
   "cell_type": "code",
   "execution_count": 52,
   "id": "6c297126",
   "metadata": {},
   "outputs": [
    {
     "name": "stdout",
     "output_type": "stream",
     "text": [
      "              precision    recall  f1-score   support\n",
      "\n",
      "           0       0.85      0.88      0.87     30134\n",
      "           1       0.75      0.70      0.73     15605\n",
      "\n",
      "    accuracy                           0.82     45739\n",
      "   macro avg       0.80      0.79      0.80     45739\n",
      "weighted avg       0.82      0.82      0.82     45739\n",
      "\n",
      "Accuracy of Model:  0.8205688799492774\n"
     ]
    }
   ],
   "source": [
    "eval_setSMO = [(X_trainSMO, y_trainSMO),(X_testXGB,y_testXGB)]\n",
    "\n",
    "xgb_classifierSMO = xgb.XGBClassifier(\n",
    "booster=\"gbtree\",\n",
    "subsample=1,\n",
    "colsample_bytree=1,\n",
    "min_child_weight=1,\n",
    "max_depth=12,\n",
    "learning_rate=0.1,\n",
    "n_estimators=200,\n",
    "eval_metric=\"error\",\n",
    "early_stopping_rounds=10)\n",
    "xgb_classifierSMO.fit(X_trainSMO, y_trainSMO, eval_set=eval_setSMO, verbose=0)\n",
    "predictionsSMO = xgb_classifierSMO.predict(X_testXGB)\n",
    "\n",
    "# Evaluation \n",
    "print(classification_report(y_testXGB, predictionsSMO))\n",
    "\n",
    "print(\"Accuracy of Model: \", accuracy_score(y_testXGB, predictionsSMO))"
   ]
  },
  {
   "cell_type": "code",
   "execution_count": 53,
   "id": "1f2dd1df",
   "metadata": {},
   "outputs": [
    {
     "name": "stdout",
     "output_type": "stream",
     "text": [
      "Classes échantillon undersampled : {0: 62540, 1: 62540}\n"
     ]
    }
   ],
   "source": [
    "# Test ajustement du jeu par Undersampling\n",
    "rUs = RandomUnderSampler()\n",
    "X_trainRU, y_trainRU = rUs.fit_resample(X_trainXGB, y_trainXGB)\n",
    "print('Classes échantillon undersampled :', dict(pd.Series(y_trainRU).value_counts()))"
   ]
  },
  {
   "cell_type": "code",
   "execution_count": 54,
   "id": "0b62172b",
   "metadata": {},
   "outputs": [
    {
     "name": "stdout",
     "output_type": "stream",
     "text": [
      "              precision    recall  f1-score   support\n",
      "\n",
      "           0       0.89      0.80      0.84     30134\n",
      "           1       0.68      0.81      0.74     15605\n",
      "\n",
      "    accuracy                           0.80     45739\n",
      "   macro avg       0.78      0.81      0.79     45739\n",
      "weighted avg       0.82      0.80      0.81     45739\n",
      "\n",
      "Accuracy of Model:  0.8030564725945036\n"
     ]
    }
   ],
   "source": [
    "eval_setRU = [(X_trainRU, y_trainRU),(X_testXGB,y_testXGB)]\n",
    "\n",
    "xgb_classifierRU = xgb.XGBClassifier(\n",
    "booster=\"gbtree\",\n",
    "subsample=1,\n",
    "colsample_bytree=1,\n",
    "min_child_weight=1,\n",
    "max_depth=12,\n",
    "learning_rate=0.1,\n",
    "n_estimators=200,\n",
    "eval_metric=\"logloss\",#\"rmse\",#\"error\",\n",
    "early_stopping_rounds=10)\n",
    "xgb_classifierRU.fit(X_trainRU, y_trainRU, eval_set=eval_setRU, verbose=0)\n",
    "predictionsRU = xgb_classifierRU.predict(X_testXGB)\n",
    "\n",
    "# Evaluation \n",
    "print(classification_report(y_testXGB, predictionsRU))\n",
    "\n",
    "print(\"Accuracy of Model: \", accuracy_score(y_testXGB, predictionsRU))"
   ]
  },
  {
   "cell_type": "code",
   "execution_count": 57,
   "id": "7ba9bc5a",
   "metadata": {},
   "outputs": [
    {
     "name": "stdout",
     "output_type": "stream",
     "text": [
      "              precision    recall  f1-score   support\n",
      "\n",
      "           0       0.94      0.44      0.60     30134\n",
      "           1       0.47      0.95      0.63     15605\n",
      "\n",
      "    accuracy                           0.61     45739\n",
      "   macro avg       0.70      0.69      0.61     45739\n",
      "weighted avg       0.78      0.61      0.61     45739\n",
      "\n",
      "Accuracy of Model:  0.6138962373466844\n"
     ]
    }
   ],
   "source": [
    "# Test par ajustement du param scale_pos_weight\n",
    "import xgboost as xgb\n",
    "from sklearn.metrics import accuracy_score\n",
    "\n",
    "targetXGB = target\n",
    "targetXGB = targetXGB.replace(['business'], 1)\n",
    "targetXGB = targetXGB.replace(['leisure'], 0)\n",
    "\n",
    "X_trainXGB, X_testXGB, y_trainXGB, y_testXGB = train_test_split(feature_data, targetXGB, test_size = 0.2, random_state=321)\n",
    "\n",
    "eval_set = [(X_trainXGB, y_trainXGB),(X_testXGB,y_testXGB)]\n",
    "\n",
    "xgb_classifier = xgb.XGBClassifier(\n",
    "scale_pos_weight=200,\n",
    "booster=\"gbtree\",\n",
    "subsample=1,\n",
    "colsample_bytree=1,\n",
    "min_child_weight=1,\n",
    "max_depth=12,\n",
    "learning_rate=0.1,\n",
    "n_estimators=200,\n",
    "eval_metric=\"error\",\n",
    "early_stopping_rounds=10)\n",
    "xgb_classifier.fit(X_trainXGB, y_trainXGB, eval_set=eval_set, verbose=0)\n",
    "predictions = xgb_classifier.predict(X_testXGB)\n",
    "\n",
    "# Evaluation \n",
    "print(classification_report(y_testXGB, predictions))\n",
    "\n",
    "print(\"Accuracy of Model: \", accuracy_score(y_testXGB, predictions))"
   ]
  },
  {
   "cell_type": "code",
   "execution_count": 103,
   "id": "42e3b4cb",
   "metadata": {},
   "outputs": [
    {
     "name": "stdout",
     "output_type": "stream",
     "text": [
      "<class 'pandas.core.frame.DataFrame'>\n",
      "Int64Index: 388714 entries, 0 to 499998\n",
      "Data columns (total 15 columns):\n",
      " #   Column                    Non-Null Count   Dtype \n",
      "---  ------                    --------------   ----- \n",
      " 0   booking_status            388714 non-null  object\n",
      " 1   hotel_brand               388714 non-null  object\n",
      " 2   hotel_brand_positionning  388714 non-null  object\n",
      " 3   hotel_sales_organisation  388714 non-null  object\n",
      " 4   hotel_class               388714 non-null  object\n",
      " 5   hotel_location_type       388714 non-null  object\n",
      " 6   hotel_continent           388714 non-null  object\n",
      " 7   hotel_euro_market         388714 non-null  object\n",
      " 8   environment_type          388714 non-null  object\n",
      " 9   calculated_stay_type      388714 non-null  object\n",
      " 10  type_member               388714 non-null  object\n",
      " 11  booking_date_day_name     388714 non-null  object\n",
      " 12  checkin_date_day_name     388714 non-null  object\n",
      " 13  checkout_date_day_name    388714 non-null  object\n",
      " 14  nb_adults_cat             388714 non-null  object\n",
      "dtypes: object(15)\n",
      "memory usage: 55.5+ MB\n"
     ]
    }
   ],
   "source": [
    "# Semi supervise\n",
    "# Liste des objets pour dummifier\n",
    "encoded_data.select_dtypes(include=['object']).info()"
   ]
  },
  {
   "cell_type": "code",
   "execution_count": 104,
   "id": "84a8492b",
   "metadata": {},
   "outputs": [
    {
     "name": "stdout",
     "output_type": "stream",
     "text": [
      "Declared_stay_type\n",
      " -1.0    0.411670\n",
      " 0.0    0.387295\n",
      " 1.0    0.201035\n",
      "Name: declared_stay_type, dtype: float64\n"
     ]
    },
    {
     "name": "stderr",
     "output_type": "stream",
     "text": [
      "C:\\Users\\jean_\\AppData\\Local\\Temp\\ipykernel_11784\\2379481340.py:3: SettingWithCopyWarning: \n",
      "A value is trying to be set on a copy of a slice from a DataFrame.\n",
      "Try using .loc[row_indexer,col_indexer] = value instead\n",
      "\n",
      "See the caveats in the documentation: https://pandas.pydata.org/pandas-docs/stable/user_guide/indexing.html#returning-a-view-versus-a-copy\n",
      "  encoded_data_semi['declared_stay_type'] = np.where(encoded_data_semi['declared_stay_type']==\"None\", -1, encoded_data_semi['declared_stay_type'])\n",
      "C:\\Users\\jean_\\AppData\\Local\\Temp\\ipykernel_11784\\2379481340.py:4: SettingWithCopyWarning: \n",
      "A value is trying to be set on a copy of a slice from a DataFrame.\n",
      "Try using .loc[row_indexer,col_indexer] = value instead\n",
      "\n",
      "See the caveats in the documentation: https://pandas.pydata.org/pandas-docs/stable/user_guide/indexing.html#returning-a-view-versus-a-copy\n",
      "  encoded_data_semi['declared_stay_type'] = np.where(encoded_data_semi['declared_stay_type']==\"business\", 1, encoded_data_semi['declared_stay_type'])\n",
      "C:\\Users\\jean_\\AppData\\Local\\Temp\\ipykernel_11784\\2379481340.py:5: SettingWithCopyWarning: \n",
      "A value is trying to be set on a copy of a slice from a DataFrame.\n",
      "Try using .loc[row_indexer,col_indexer] = value instead\n",
      "\n",
      "See the caveats in the documentation: https://pandas.pydata.org/pandas-docs/stable/user_guide/indexing.html#returning-a-view-versus-a-copy\n",
      "  encoded_data_semi['declared_stay_type'] = np.where(encoded_data_semi['declared_stay_type']==\"leisure\", 0, encoded_data_semi['declared_stay_type'])\n",
      "C:\\Users\\jean_\\AppData\\Local\\Temp\\ipykernel_11784\\2379481340.py:6: SettingWithCopyWarning: \n",
      "A value is trying to be set on a copy of a slice from a DataFrame.\n",
      "Try using .loc[row_indexer,col_indexer] = value instead\n",
      "\n",
      "See the caveats in the documentation: https://pandas.pydata.org/pandas-docs/stable/user_guide/indexing.html#returning-a-view-versus-a-copy\n",
      "  encoded_data_semi['declared_stay_type'] = encoded_data_semi['declared_stay_type'].astype(float)\n"
     ]
    }
   ],
   "source": [
    "encoded_data_semi = encoded_data\n",
    "\n",
    "encoded_data_semi['declared_stay_type'] = np.where(encoded_data_semi['declared_stay_type']==\"None\", -1, encoded_data_semi['declared_stay_type'])\n",
    "encoded_data_semi['declared_stay_type'] = np.where(encoded_data_semi['declared_stay_type']==\"business\", 1, encoded_data_semi['declared_stay_type'])\n",
    "encoded_data_semi['declared_stay_type'] = np.where(encoded_data_semi['declared_stay_type']==\"leisure\", 0, encoded_data_semi['declared_stay_type'])\n",
    "encoded_data_semi['declared_stay_type'] = encoded_data_semi['declared_stay_type'].astype(float)\n",
    "print(\"Declared_stay_type\\n\", encoded_data_semi['declared_stay_type'].value_counts(normalize=True))"
   ]
  },
  {
   "cell_type": "code",
   "execution_count": 105,
   "id": "57be9785",
   "metadata": {},
   "outputs": [
    {
     "name": "stdout",
     "output_type": "stream",
     "text": [
      "<class 'pandas.core.frame.DataFrame'>\n",
      "Int64Index: 388714 entries, 0 to 499998\n",
      "Columns: 162 entries, pmid to N_2.0\n",
      "dtypes: float64(7), int32(6), int64(15), uint8(134)\n",
      "memory usage: 134.8 MB\n"
     ]
    }
   ],
   "source": [
    "encoded_data_semi = encoded_data_semi.join(pd.get_dummies(encoded_data_semi['booking_status'], prefix='A'))\n",
    "encoded_data_semi = encoded_data_semi.join(pd.get_dummies(encoded_data_semi['hotel_brand'], prefix='B'))\n",
    "encoded_data_semi = encoded_data_semi.join(pd.get_dummies(encoded_data_semi['hotel_brand_positionning'], prefix='C'))\n",
    "encoded_data_semi = encoded_data_semi.join(pd.get_dummies(encoded_data_semi['hotel_sales_organisation'], prefix='D'))\n",
    "encoded_data_semi = encoded_data_semi.join(pd.get_dummies(encoded_data_semi['hotel_class'], prefix='E'))\n",
    "encoded_data_semi = encoded_data_semi.join(pd.get_dummies(encoded_data_semi['hotel_location_type'], prefix='F'))\n",
    "encoded_data_semi = encoded_data_semi.join(pd.get_dummies(encoded_data_semi['hotel_continent'], prefix='G'))\n",
    "encoded_data_semi = encoded_data_semi.join(pd.get_dummies(encoded_data_semi['hotel_euro_market'], prefix='H'))\n",
    "encoded_data_semi = encoded_data_semi.join(pd.get_dummies(encoded_data_semi['environment_type'], prefix='I'))\n",
    "encoded_data_semi = encoded_data_semi.join(pd.get_dummies(encoded_data_semi['type_member'], prefix='J'))\n",
    "encoded_data_semi = encoded_data_semi.join(pd.get_dummies(encoded_data_semi['booking_date_day_name'], prefix='K'))\n",
    "encoded_data_semi = encoded_data_semi.join(pd.get_dummies(encoded_data_semi['checkin_date_day_name'], prefix='L'))\n",
    "encoded_data_semi = encoded_data_semi.join(pd.get_dummies(encoded_data_semi['checkout_date_day_name'], prefix='M'))\n",
    "encoded_data_semi = encoded_data_semi.join(pd.get_dummies(encoded_data_semi['nb_adults_cat'], prefix='N'))\n",
    "\n",
    "to_drop = ['booking_status', 'hotel_brand', 'hotel_brand_positionning', 'hotel_sales_organisation', 'hotel_class', \n",
    "           'hotel_location_type', 'hotel_continent', 'hotel_euro_market', 'environment_type', 'type_member',\n",
    "           'booking_date_day_name', 'checkin_date_day_name', 'checkout_date_day_name', 'nb_adults_cat', \n",
    "           'calculated_stay_type']\n",
    "encoded_data_semi = encoded_data_semi.drop(to_drop,axis=1)\n",
    "encoded_data_semi.info()"
   ]
  },
  {
   "cell_type": "code",
   "execution_count": 106,
   "id": "669e3776",
   "metadata": {},
   "outputs": [],
   "source": [
    "# Séparation des données labellisées et non labellisées\n",
    "labeled_data = encoded_data_semi[encoded_data_semi['declared_stay_type']!=-1]\n",
    "unlabeled_data = encoded_data_semi[encoded_data_semi['declared_stay_type']==-1]\n",
    "\n",
    "# Décomposition des données en deux ensembles d'entraînement et de test.\n",
    "# Le jeu d'entrainement contient les valeurs sans label\n",
    "test = labeled_data.iloc[:20000,:]\n",
    "train = pd.concat([labeled_data.iloc[20000:,:], unlabeled_data])"
   ]
  },
  {
   "cell_type": "code",
   "execution_count": 107,
   "id": "f8e185e4",
   "metadata": {},
   "outputs": [],
   "source": [
    "#Création des matrices de features et des données cibles pour les données d'entrainement et de test\n",
    "X_test = test.drop('declared_stay_type', axis=1)\n",
    "y_test = test['declared_stay_type']\n",
    "X_train = train.drop('declared_stay_type', axis=1)\n",
    "y_train = train['declared_stay_type']"
   ]
  },
  {
   "cell_type": "code",
   "execution_count": 108,
   "id": "35617260",
   "metadata": {},
   "outputs": [
    {
     "name": "stderr",
     "output_type": "stream",
     "text": [
      "C:\\Users\\jean_\\anaconda3\\lib\\site-packages\\sklearn\\semi_supervised\\_label_propagation.py:316: ConvergenceWarning: max_iter=10 was reached without convergence.\n",
      "  warnings.warn(\n"
     ]
    },
    {
     "data": {
      "text/plain": [
       "LabelSpreading(gamma=0.2, kernel='knn', max_iter=10)"
      ]
     },
     "execution_count": 108,
     "metadata": {},
     "output_type": "execute_result"
    }
   ],
   "source": [
    "# Création du classifier et construction du modèle sur les données d'entraînement\n",
    "from sklearn.semi_supervised import LabelSpreading\n",
    "\n",
    "label_model = LabelSpreading(n_neighbors=7, kernel='knn', max_iter=10, gamma=0.20)\n",
    "label_model.fit(X_train, y_train)"
   ]
  },
  {
   "cell_type": "code",
   "execution_count": 109,
   "id": "b7f76a3e",
   "metadata": {},
   "outputs": [
    {
     "name": "stderr",
     "output_type": "stream",
     "text": [
      "C:\\Users\\jean_\\anaconda3\\lib\\site-packages\\sklearn\\semi_supervised\\_label_propagation.py:222: RuntimeWarning: invalid value encountered in divide\n",
      "  probabilities /= normalizer\n"
     ]
    },
    {
     "data": {
      "text/html": [
       "<div>\n",
       "<style scoped>\n",
       "    .dataframe tbody tr th:only-of-type {\n",
       "        vertical-align: middle;\n",
       "    }\n",
       "\n",
       "    .dataframe tbody tr th {\n",
       "        vertical-align: top;\n",
       "    }\n",
       "\n",
       "    .dataframe thead th {\n",
       "        text-align: right;\n",
       "    }\n",
       "</style>\n",
       "<table border=\"1\" class=\"dataframe\">\n",
       "  <thead>\n",
       "    <tr style=\"text-align: right;\">\n",
       "      <th>Classes prédites</th>\n",
       "      <th>0.0</th>\n",
       "      <th>1.0</th>\n",
       "    </tr>\n",
       "    <tr>\n",
       "      <th>Classes réelles</th>\n",
       "      <th></th>\n",
       "      <th></th>\n",
       "    </tr>\n",
       "  </thead>\n",
       "  <tbody>\n",
       "    <tr>\n",
       "      <th>0.0</th>\n",
       "      <td>12555</td>\n",
       "      <td>385</td>\n",
       "    </tr>\n",
       "    <tr>\n",
       "      <th>1.0</th>\n",
       "      <td>6837</td>\n",
       "      <td>223</td>\n",
       "    </tr>\n",
       "  </tbody>\n",
       "</table>\n",
       "</div>"
      ],
      "text/plain": [
       "Classes prédites    0.0  1.0\n",
       "Classes réelles             \n",
       "0.0               12555  385\n",
       "1.0                6837  223"
      ]
     },
     "execution_count": 109,
     "metadata": {},
     "output_type": "execute_result"
    }
   ],
   "source": [
    "# Calcul de la matrice de confusion\n",
    "y_pred = label_model.predict(X_test)\n",
    "pd.crosstab(y_test, y_pred, rownames=['Classes réelles'], colnames=['Classes prédites'])"
   ]
  },
  {
   "cell_type": "code",
   "execution_count": 111,
   "id": "7860ad80",
   "metadata": {},
   "outputs": [
    {
     "data": {
      "text/plain": [
       "0.00231421106842733"
      ]
     },
     "execution_count": 111,
     "metadata": {},
     "output_type": "execute_result"
    }
   ],
   "source": [
    "from sklearn.metrics import cohen_kappa_score\n",
    "\n",
    "# Calcul du coefficient Cohen Kappa\n",
    "cohen_kappa_score(y_test, y_pred)"
   ]
  },
  {
   "cell_type": "code",
   "execution_count": null,
   "id": "5a56964b",
   "metadata": {},
   "outputs": [],
   "source": []
  }
 ],
 "metadata": {
  "kernelspec": {
   "display_name": "Python 3 (ipykernel)",
   "language": "python",
   "name": "python3"
  },
  "language_info": {
   "codemirror_mode": {
    "name": "ipython",
    "version": 3
   },
   "file_extension": ".py",
   "mimetype": "text/x-python",
   "name": "python",
   "nbconvert_exporter": "python",
   "pygments_lexer": "ipython3",
   "version": "3.9.12"
  }
 },
 "nbformat": 4,
 "nbformat_minor": 5
}
